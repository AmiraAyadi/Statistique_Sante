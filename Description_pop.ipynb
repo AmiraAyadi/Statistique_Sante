{
 "cells": [
  {
   "cell_type": "code",
   "execution_count": 334,
   "metadata": {
    "collapsed": true
   },
   "outputs": [],
   "source": [
    "import pandas as pd\n",
    "import matplotlib.pyplot as plt\n",
    "import seaborn as sns\n",
    "import numpy as np\n",
    "%matplotlib inline\n",
    "\n",
    "data = pd.read_csv('couples.csv', sep = ',',na_values = '.', decimal = '.', encoding =  'utf-8')\n"
   ]
  },
  {
   "cell_type": "markdown",
   "metadata": {},
   "source": [
    "A FAIRE: \n",
    "- variable c'est l'homme qui a le soucis, c'est la femme qui a le soucis, les deux ont un soucis\n",
    "- Durée entre la première consultation et la date de conception pour ceux ayant eu un enfant\n",
    "- Durée entre la première consultation et la date des dernières nouvelles (01/06/2009)\n",
    "- Encadrement de l'âge\n",
    "- Encadrement de l'indice de masse corporelle\n",
    "- Encadrement de la durée d'infertilité avant consultation"
   ]
  },
  {
   "cell_type": "code",
   "execution_count": 335,
   "metadata": {},
   "outputs": [
    {
     "data": {
      "text/html": [
       "<div>\n",
       "<style>\n",
       "    .dataframe thead tr:only-child th {\n",
       "        text-align: right;\n",
       "    }\n",
       "\n",
       "    .dataframe thead th {\n",
       "        text-align: left;\n",
       "    }\n",
       "\n",
       "    .dataframe tbody tr th {\n",
       "        vertical-align: top;\n",
       "    }\n",
       "</style>\n",
       "<table border=\"1\" class=\"dataframe\">\n",
       "  <thead>\n",
       "    <tr style=\"text-align: right;\">\n",
       "      <th></th>\n",
       "      <th>id</th>\n",
       "      <th>enfant</th>\n",
       "      <th>dconsultation</th>\n",
       "      <th>dconception</th>\n",
       "      <th>ddn</th>\n",
       "      <th>age_h</th>\n",
       "      <th>diplome_h</th>\n",
       "      <th>bmi_h</th>\n",
       "      <th>patho_h</th>\n",
       "      <th>cryptorchidie</th>\n",
       "      <th>spermo</th>\n",
       "      <th>age_f</th>\n",
       "      <th>diplome_f</th>\n",
       "      <th>bh_f</th>\n",
       "      <th>ct_f</th>\n",
       "      <th>patho_f</th>\n",
       "      <th>fecondite</th>\n",
       "      <th>duree_infertilite</th>\n",
       "      <th>traitement</th>\n",
       "    </tr>\n",
       "  </thead>\n",
       "  <tbody>\n",
       "    <tr>\n",
       "      <th>0</th>\n",
       "      <td>2707</td>\n",
       "      <td>1</td>\n",
       "      <td>18/04/2000</td>\n",
       "      <td>22/01/2001</td>\n",
       "      <td>NaN</td>\n",
       "      <td>33</td>\n",
       "      <td>Bac+</td>\n",
       "      <td>27.166448</td>\n",
       "      <td>non</td>\n",
       "      <td>Non</td>\n",
       "      <td>normal</td>\n",
       "      <td>34.0</td>\n",
       "      <td>Bac+</td>\n",
       "      <td>normal</td>\n",
       "      <td>ovulation</td>\n",
       "      <td>non</td>\n",
       "      <td>primaire</td>\n",
       "      <td>38.0</td>\n",
       "      <td>IAC</td>\n",
       "    </tr>\n",
       "    <tr>\n",
       "      <th>1</th>\n",
       "      <td>2955</td>\n",
       "      <td>1</td>\n",
       "      <td>11/03/2003</td>\n",
       "      <td>14/03/2007</td>\n",
       "      <td>NaN</td>\n",
       "      <td>42</td>\n",
       "      <td>Bac-</td>\n",
       "      <td>22.204082</td>\n",
       "      <td>non</td>\n",
       "      <td>Non</td>\n",
       "      <td>anormal</td>\n",
       "      <td>30.0</td>\n",
       "      <td>Bac</td>\n",
       "      <td>normal</td>\n",
       "      <td>ovulation</td>\n",
       "      <td>NaN</td>\n",
       "      <td>primaire</td>\n",
       "      <td>16.0</td>\n",
       "      <td>ICSI</td>\n",
       "    </tr>\n",
       "    <tr>\n",
       "      <th>2</th>\n",
       "      <td>3801</td>\n",
       "      <td>1</td>\n",
       "      <td>24/08/2004</td>\n",
       "      <td>05/10/2005</td>\n",
       "      <td>NaN</td>\n",
       "      <td>45</td>\n",
       "      <td>Bac+</td>\n",
       "      <td>26.794938</td>\n",
       "      <td>non</td>\n",
       "      <td>Non</td>\n",
       "      <td>anormal</td>\n",
       "      <td>29.0</td>\n",
       "      <td>Bac+</td>\n",
       "      <td>NaN</td>\n",
       "      <td>NaN</td>\n",
       "      <td>NaN</td>\n",
       "      <td>secondaire</td>\n",
       "      <td>10.0</td>\n",
       "      <td>IAC</td>\n",
       "    </tr>\n",
       "    <tr>\n",
       "      <th>3</th>\n",
       "      <td>5816</td>\n",
       "      <td>0</td>\n",
       "      <td>17/04/2001</td>\n",
       "      <td>NaN</td>\n",
       "      <td>01/06/2009</td>\n",
       "      <td>36</td>\n",
       "      <td>Bac+</td>\n",
       "      <td>18.612245</td>\n",
       "      <td>non</td>\n",
       "      <td>Non</td>\n",
       "      <td>anormal</td>\n",
       "      <td>38.0</td>\n",
       "      <td>Bac+</td>\n",
       "      <td>normal</td>\n",
       "      <td>ovulation</td>\n",
       "      <td>pb tubaire unilateral</td>\n",
       "      <td>secondaire</td>\n",
       "      <td>60.0</td>\n",
       "      <td>FIV</td>\n",
       "    </tr>\n",
       "    <tr>\n",
       "      <th>4</th>\n",
       "      <td>12933</td>\n",
       "      <td>0</td>\n",
       "      <td>18/08/2004</td>\n",
       "      <td>NaN</td>\n",
       "      <td>01/06/2009</td>\n",
       "      <td>32</td>\n",
       "      <td>Bac</td>\n",
       "      <td>24.158818</td>\n",
       "      <td>non</td>\n",
       "      <td>Non</td>\n",
       "      <td>azoo</td>\n",
       "      <td>30.0</td>\n",
       "      <td>Bac+</td>\n",
       "      <td>NaN</td>\n",
       "      <td>NaN</td>\n",
       "      <td>NaN</td>\n",
       "      <td>secondaire</td>\n",
       "      <td>6.0</td>\n",
       "      <td>Medical</td>\n",
       "    </tr>\n",
       "  </tbody>\n",
       "</table>\n",
       "</div>"
      ],
      "text/plain": [
       "      id  enfant dconsultation dconception         ddn  age_h diplome_h  \\\n",
       "0   2707       1    18/04/2000  22/01/2001         NaN     33      Bac+   \n",
       "1   2955       1    11/03/2003  14/03/2007         NaN     42      Bac-   \n",
       "2   3801       1    24/08/2004  05/10/2005         NaN     45      Bac+   \n",
       "3   5816       0    17/04/2001         NaN  01/06/2009     36      Bac+   \n",
       "4  12933       0    18/08/2004         NaN  01/06/2009     32       Bac   \n",
       "\n",
       "       bmi_h patho_h cryptorchidie   spermo  age_f diplome_f    bh_f  \\\n",
       "0  27.166448     non           Non   normal   34.0      Bac+  normal   \n",
       "1  22.204082     non           Non  anormal   30.0       Bac  normal   \n",
       "2  26.794938     non           Non  anormal   29.0      Bac+     NaN   \n",
       "3  18.612245     non           Non  anormal   38.0      Bac+  normal   \n",
       "4  24.158818     non           Non     azoo   30.0      Bac+     NaN   \n",
       "\n",
       "        ct_f                patho_f   fecondite  duree_infertilite traitement  \n",
       "0  ovulation                    non    primaire               38.0        IAC  \n",
       "1  ovulation                    NaN    primaire               16.0       ICSI  \n",
       "2        NaN                    NaN  secondaire               10.0        IAC  \n",
       "3  ovulation  pb tubaire unilateral  secondaire               60.0        FIV  \n",
       "4        NaN                    NaN  secondaire                6.0    Medical  "
      ]
     },
     "execution_count": 335,
     "metadata": {},
     "output_type": "execute_result"
    }
   ],
   "source": [
    "data.head()"
   ]
  },
  {
   "cell_type": "markdown",
   "metadata": {},
   "source": [
    "On va séparer les données numériques des données catégorielles\n"
   ]
  },
  {
   "cell_type": "code",
   "execution_count": 336,
   "metadata": {},
   "outputs": [
    {
     "data": {
      "text/plain": [
       "id                     int64\n",
       "enfant                 int64\n",
       "dconsultation         object\n",
       "dconception           object\n",
       "ddn                   object\n",
       "age_h                  int64\n",
       "diplome_h             object\n",
       "bmi_h                float64\n",
       "patho_h               object\n",
       "cryptorchidie         object\n",
       "spermo                object\n",
       "age_f                float64\n",
       "diplome_f             object\n",
       "bh_f                  object\n",
       "ct_f                  object\n",
       "patho_f               object\n",
       "fecondite             object\n",
       "duree_infertilite    float64\n",
       "traitement            object\n",
       "dtype: object"
      ]
     },
     "execution_count": 336,
     "metadata": {},
     "output_type": "execute_result"
    }
   ],
   "source": [
    "data.dtypes\n"
   ]
  },
  {
   "cell_type": "code",
   "execution_count": 337,
   "metadata": {},
   "outputs": [
    {
     "data": {
      "text/plain": [
       "id                     0\n",
       "enfant                 0\n",
       "dconsultation          0\n",
       "dconception          494\n",
       "ddn                  637\n",
       "age_h                  0\n",
       "diplome_h              3\n",
       "bmi_h                 22\n",
       "patho_h                0\n",
       "cryptorchidie          0\n",
       "spermo                 0\n",
       "age_f                  3\n",
       "diplome_f             22\n",
       "bh_f                 359\n",
       "ct_f                 355\n",
       "patho_f              368\n",
       "fecondite              0\n",
       "duree_infertilite      0\n",
       "traitement             0\n",
       "dtype: int64"
      ]
     },
     "execution_count": 337,
     "metadata": {},
     "output_type": "execute_result"
    }
   ],
   "source": [
    "data.isnull().sum()"
   ]
  },
  {
   "cell_type": "markdown",
   "metadata": {},
   "source": [
    "Pour dconsultation et ddn c'est normal car un couple à une dconception ssi il a eu un enfant et une ddn sinon\n",
    "Pour diplome_h, bmi_h, age_f, diplome_f comme il n'y a que peu de valeur manquante, on peut les remplacer par la catégorie la plus commune.\n",
    "\n",
    "Pour bh_f, ct_f et patho_f, on va décider dans un premier temps de créer une nouvelle catégorie attribué aux valeur manquantes, comme cela, si une logique existe derrière ces na, le modèle en tiendra compte\n",
    "\n",
    "Pourquoi des valeurs sont na? Principalement sur la femme\n",
    "\n",
    "Hypothèse: \n",
    "- Le traitement doit nous donner un indice\n",
    "- La présence presque automatique d'un problème chez l'homme lorsque la femme a des NA nous permet de supposer que le variable a été laissé vide, c'est à dire que tout est normal"
   ]
  },
  {
   "cell_type": "code",
   "execution_count": 338,
   "metadata": {
    "collapsed": true
   },
   "outputs": [],
   "source": [
    "###\n",
    "#  Remplacer par la catégorie la plus fréquente dans le cas d'une catégorie et la moyenne sinon\n",
    "###\n",
    "\n",
    "#diplome_h\n",
    "data.diplome_h = data.diplome_h.fillna(data['diplome_h'].value_counts().index[0])\n",
    "\n",
    "#bmi_h\n",
    "data.bmi_h = data.bmi_h.fillna(data['bmi_h'].mean())\n",
    "\n",
    "#age_f\n",
    "data.age_f = data.age_f.fillna(data['age_f'].mean())\n",
    "\n",
    "#diplome_f\n",
    "data.diplome_f = data.diplome_f.fillna(data['diplome_f'].value_counts().index[0])"
   ]
  },
  {
   "cell_type": "code",
   "execution_count": 339,
   "metadata": {
    "collapsed": true
   },
   "outputs": [],
   "source": [
    "###\n",
    "#  Remplacer par un niveau NA\n",
    "###\n",
    "\n",
    "#bh_f\n",
    "data.bh_f= data.bh_f.fillna('NA')\n",
    "\n",
    "#ct_f\n",
    "data.ct_f = data.ct_f.fillna('NA')\n",
    "\n",
    "#patho_f\n",
    "data.patho_f = data.patho_f.fillna('NA')"
   ]
  },
  {
   "cell_type": "code",
   "execution_count": 340,
   "metadata": {},
   "outputs": [
    {
     "data": {
      "text/plain": [
       "Bac+    495\n",
       "Bac-    451\n",
       "Bac     185\n",
       "Name: diplome_h, dtype: int64"
      ]
     },
     "execution_count": 340,
     "metadata": {},
     "output_type": "execute_result"
    }
   ],
   "source": [
    "data['diplome_h'].value_counts()"
   ]
  },
  {
   "cell_type": "code",
   "execution_count": 341,
   "metadata": {},
   "outputs": [
    {
     "data": {
      "text/plain": [
       "['anormal', 'NA', 'normal']"
      ]
     },
     "execution_count": 341,
     "metadata": {},
     "output_type": "execute_result"
    }
   ],
   "source": [
    "list(set(data.bh_f))"
   ]
  },
  {
   "cell_type": "markdown",
   "metadata": {},
   "source": [
    "## Recodage des Données"
   ]
  },
  {
   "cell_type": "markdown",
   "metadata": {},
   "source": [
    "### Facteur avec que deux catégories en binaire"
   ]
  },
  {
   "cell_type": "code",
   "execution_count": 342,
   "metadata": {
    "collapsed": true
   },
   "outputs": [],
   "source": [
    "dic = {\n",
    "    'Oui' : 1,\n",
    "    'Non' : 0\n",
    "}\n",
    "data.cryptorchidie = data.cryptorchidie.map(dic)\n"
   ]
  },
  {
   "cell_type": "markdown",
   "metadata": {},
   "source": [
    "### Age en catégorie"
   ]
  },
  {
   "cell_type": "code",
   "execution_count": 343,
   "metadata": {
    "collapsed": true
   },
   "outputs": [],
   "source": [
    "data['tranche_age_h'] = pd.cut(data.age_h, bins = [data.age_h.min(),30,40,50,data.age_h.max()], labels = ['- 30 ans','30 à 40 ans', \\\n",
    "                                                                                       '40 à 50 ans','+ 50 ans'])\n",
    "data['tranche_age_f'] = pd.cut(data.age_f, bins = [16,30,40,data.age_f.max()], labels = ['- 30 ans','30 à 40 ans', \\\n",
    "                                                                                       '+ 40 ans'])"
   ]
  },
  {
   "cell_type": "markdown",
   "metadata": {},
   "source": [
    "### Indice de masse corporelle en interprétation (source: Wikipedia)"
   ]
  },
  {
   "cell_type": "code",
   "execution_count": 344,
   "metadata": {
    "collapsed": true
   },
   "outputs": [],
   "source": [
    "#Commentaire: ne pas mettre -1 crée un problème, le minimum ne rentre pas dans une tranche et devient un NA\n",
    "data['tranche_bmi_h'] = pd.cut(data.bmi_h, \\\n",
    "                              bins = [data.bmi_h.min() - 1 ,16.5,18.5,25,30,data.bmi_h.max() +1],\\\n",
    "                              labels = ['Denutrition ou anorexie','Maigreur', 'Corpulence normale',\\\n",
    "                                       'Surpoid', 'Obesite'])"
   ]
  },
  {
   "cell_type": "code",
   "execution_count": 345,
   "metadata": {},
   "outputs": [
    {
     "data": {
      "text/plain": [
       "False"
      ]
     },
     "execution_count": 345,
     "metadata": {},
     "output_type": "execute_result"
    }
   ],
   "source": [
    "data.tranche_bmi_h.isnull().any()"
   ]
  },
  {
   "cell_type": "markdown",
   "metadata": {},
   "source": [
    "### Encadrement de la durée d'infertilité avant la première consultation\n",
    "\n",
    "Regardons d'abord la répartition avant de créer des catégories"
   ]
  },
  {
   "cell_type": "code",
   "execution_count": 346,
   "metadata": {},
   "outputs": [
    {
     "data": {
      "text/plain": [
       "0.25    18.0\n",
       "0.50    24.0\n",
       "0.75    36.0\n",
       "Name: duree_infertilite, dtype: float64"
      ]
     },
     "execution_count": 346,
     "metadata": {},
     "output_type": "execute_result"
    }
   ],
   "source": [
    "\n",
    "data.duree_infertilite.quantile([0.25,0.5,0.75])"
   ]
  },
  {
   "cell_type": "code",
   "execution_count": 347,
   "metadata": {
    "collapsed": true
   },
   "outputs": [],
   "source": [
    "data['tranche_duree_infertilite'] = pd.cut(data.duree_infertilite, \\\n",
    "                              bins = [data.duree_infertilite.min(),6,12,24,data.duree_infertilite.max()],\\\n",
    "                              labels = ['- 6 mois','6-12 mois', '1-2 ans','+ 2ans'])"
   ]
  },
  {
   "cell_type": "code",
   "execution_count": 348,
   "metadata": {},
   "outputs": [
    {
     "data": {
      "text/html": [
       "<div>\n",
       "<style>\n",
       "    .dataframe thead tr:only-child th {\n",
       "        text-align: right;\n",
       "    }\n",
       "\n",
       "    .dataframe thead th {\n",
       "        text-align: left;\n",
       "    }\n",
       "\n",
       "    .dataframe tbody tr th {\n",
       "        vertical-align: top;\n",
       "    }\n",
       "</style>\n",
       "<table border=\"1\" class=\"dataframe\">\n",
       "  <thead>\n",
       "    <tr style=\"text-align: right;\">\n",
       "      <th></th>\n",
       "      <th>id</th>\n",
       "      <th>enfant</th>\n",
       "      <th>dconsultation</th>\n",
       "      <th>dconception</th>\n",
       "      <th>ddn</th>\n",
       "      <th>age_h</th>\n",
       "      <th>diplome_h</th>\n",
       "      <th>bmi_h</th>\n",
       "      <th>patho_h</th>\n",
       "      <th>cryptorchidie</th>\n",
       "      <th>...</th>\n",
       "      <th>bh_f</th>\n",
       "      <th>ct_f</th>\n",
       "      <th>patho_f</th>\n",
       "      <th>fecondite</th>\n",
       "      <th>duree_infertilite</th>\n",
       "      <th>traitement</th>\n",
       "      <th>tranche_age_h</th>\n",
       "      <th>tranche_age_f</th>\n",
       "      <th>tranche_bmi_h</th>\n",
       "      <th>tranche_duree_infertilite</th>\n",
       "    </tr>\n",
       "  </thead>\n",
       "  <tbody>\n",
       "    <tr>\n",
       "      <th>0</th>\n",
       "      <td>2707</td>\n",
       "      <td>1</td>\n",
       "      <td>18/04/2000</td>\n",
       "      <td>22/01/2001</td>\n",
       "      <td>NaN</td>\n",
       "      <td>33</td>\n",
       "      <td>Bac+</td>\n",
       "      <td>27.166448</td>\n",
       "      <td>non</td>\n",
       "      <td>0</td>\n",
       "      <td>...</td>\n",
       "      <td>normal</td>\n",
       "      <td>ovulation</td>\n",
       "      <td>non</td>\n",
       "      <td>primaire</td>\n",
       "      <td>38.0</td>\n",
       "      <td>IAC</td>\n",
       "      <td>30 à 40 ans</td>\n",
       "      <td>30 à 40 ans</td>\n",
       "      <td>Surpoid</td>\n",
       "      <td>+ 2ans</td>\n",
       "    </tr>\n",
       "    <tr>\n",
       "      <th>1</th>\n",
       "      <td>2955</td>\n",
       "      <td>1</td>\n",
       "      <td>11/03/2003</td>\n",
       "      <td>14/03/2007</td>\n",
       "      <td>NaN</td>\n",
       "      <td>42</td>\n",
       "      <td>Bac-</td>\n",
       "      <td>22.204082</td>\n",
       "      <td>non</td>\n",
       "      <td>0</td>\n",
       "      <td>...</td>\n",
       "      <td>normal</td>\n",
       "      <td>ovulation</td>\n",
       "      <td>NA</td>\n",
       "      <td>primaire</td>\n",
       "      <td>16.0</td>\n",
       "      <td>ICSI</td>\n",
       "      <td>40 à 50 ans</td>\n",
       "      <td>- 30 ans</td>\n",
       "      <td>Corpulence normale</td>\n",
       "      <td>1-2 ans</td>\n",
       "    </tr>\n",
       "    <tr>\n",
       "      <th>2</th>\n",
       "      <td>3801</td>\n",
       "      <td>1</td>\n",
       "      <td>24/08/2004</td>\n",
       "      <td>05/10/2005</td>\n",
       "      <td>NaN</td>\n",
       "      <td>45</td>\n",
       "      <td>Bac+</td>\n",
       "      <td>26.794938</td>\n",
       "      <td>non</td>\n",
       "      <td>0</td>\n",
       "      <td>...</td>\n",
       "      <td>NA</td>\n",
       "      <td>NA</td>\n",
       "      <td>NA</td>\n",
       "      <td>secondaire</td>\n",
       "      <td>10.0</td>\n",
       "      <td>IAC</td>\n",
       "      <td>40 à 50 ans</td>\n",
       "      <td>- 30 ans</td>\n",
       "      <td>Surpoid</td>\n",
       "      <td>6-12 mois</td>\n",
       "    </tr>\n",
       "    <tr>\n",
       "      <th>3</th>\n",
       "      <td>5816</td>\n",
       "      <td>0</td>\n",
       "      <td>17/04/2001</td>\n",
       "      <td>NaN</td>\n",
       "      <td>01/06/2009</td>\n",
       "      <td>36</td>\n",
       "      <td>Bac+</td>\n",
       "      <td>18.612245</td>\n",
       "      <td>non</td>\n",
       "      <td>0</td>\n",
       "      <td>...</td>\n",
       "      <td>normal</td>\n",
       "      <td>ovulation</td>\n",
       "      <td>pb tubaire unilateral</td>\n",
       "      <td>secondaire</td>\n",
       "      <td>60.0</td>\n",
       "      <td>FIV</td>\n",
       "      <td>30 à 40 ans</td>\n",
       "      <td>30 à 40 ans</td>\n",
       "      <td>Corpulence normale</td>\n",
       "      <td>+ 2ans</td>\n",
       "    </tr>\n",
       "    <tr>\n",
       "      <th>4</th>\n",
       "      <td>12933</td>\n",
       "      <td>0</td>\n",
       "      <td>18/08/2004</td>\n",
       "      <td>NaN</td>\n",
       "      <td>01/06/2009</td>\n",
       "      <td>32</td>\n",
       "      <td>Bac</td>\n",
       "      <td>24.158818</td>\n",
       "      <td>non</td>\n",
       "      <td>0</td>\n",
       "      <td>...</td>\n",
       "      <td>NA</td>\n",
       "      <td>NA</td>\n",
       "      <td>NA</td>\n",
       "      <td>secondaire</td>\n",
       "      <td>6.0</td>\n",
       "      <td>Medical</td>\n",
       "      <td>30 à 40 ans</td>\n",
       "      <td>- 30 ans</td>\n",
       "      <td>Corpulence normale</td>\n",
       "      <td>- 6 mois</td>\n",
       "    </tr>\n",
       "  </tbody>\n",
       "</table>\n",
       "<p>5 rows × 23 columns</p>\n",
       "</div>"
      ],
      "text/plain": [
       "      id  enfant dconsultation dconception         ddn  age_h diplome_h  \\\n",
       "0   2707       1    18/04/2000  22/01/2001         NaN     33      Bac+   \n",
       "1   2955       1    11/03/2003  14/03/2007         NaN     42      Bac-   \n",
       "2   3801       1    24/08/2004  05/10/2005         NaN     45      Bac+   \n",
       "3   5816       0    17/04/2001         NaN  01/06/2009     36      Bac+   \n",
       "4  12933       0    18/08/2004         NaN  01/06/2009     32       Bac   \n",
       "\n",
       "       bmi_h patho_h  cryptorchidie            ...               bh_f  \\\n",
       "0  27.166448     non              0            ...             normal   \n",
       "1  22.204082     non              0            ...             normal   \n",
       "2  26.794938     non              0            ...                 NA   \n",
       "3  18.612245     non              0            ...             normal   \n",
       "4  24.158818     non              0            ...                 NA   \n",
       "\n",
       "        ct_f                patho_f   fecondite duree_infertilite traitement  \\\n",
       "0  ovulation                    non    primaire              38.0        IAC   \n",
       "1  ovulation                     NA    primaire              16.0       ICSI   \n",
       "2         NA                     NA  secondaire              10.0        IAC   \n",
       "3  ovulation  pb tubaire unilateral  secondaire              60.0        FIV   \n",
       "4         NA                     NA  secondaire               6.0    Medical   \n",
       "\n",
       "  tranche_age_h  tranche_age_f       tranche_bmi_h tranche_duree_infertilite  \n",
       "0   30 à 40 ans    30 à 40 ans             Surpoid                    + 2ans  \n",
       "1   40 à 50 ans       - 30 ans  Corpulence normale                   1-2 ans  \n",
       "2   40 à 50 ans       - 30 ans             Surpoid                 6-12 mois  \n",
       "3   30 à 40 ans    30 à 40 ans  Corpulence normale                    + 2ans  \n",
       "4   30 à 40 ans       - 30 ans  Corpulence normale                  - 6 mois  \n",
       "\n",
       "[5 rows x 23 columns]"
      ]
     },
     "execution_count": 348,
     "metadata": {},
     "output_type": "execute_result"
    }
   ],
   "source": [
    "data.head()"
   ]
  },
  {
   "cell_type": "markdown",
   "metadata": {},
   "source": [
    "### Gestion des dates / Durée entre la première consultation et la date de conception pour ceux ayant eu un enfant"
   ]
  },
  {
   "cell_type": "code",
   "execution_count": 349,
   "metadata": {
    "collapsed": true
   },
   "outputs": [],
   "source": [
    "data.dconsultation = pd.to_datetime(data.dconsultation)\n",
    "data.dconception = pd.to_datetime(data.dconception)\n",
    "data.ddn = pd.to_datetime(data.ddn)"
   ]
  },
  {
   "cell_type": "markdown",
   "metadata": {},
   "source": [
    "Si nous voulons étudier, ou plutot prédire si les individus ont eu des enfants après la ddn (dans le cas ou la première consultation à eu lieu peu avant), il nous faut connaitre les durée entre traitement et consultation"
   ]
  },
  {
   "cell_type": "code",
   "execution_count": 350,
   "metadata": {
    "collapsed": true
   },
   "outputs": [],
   "source": [
    "data['delta_consult_concep'] = (data.dconception - data.dconsultation)/np.timedelta64(1, 'M')\n",
    "data['delta_consult_ddn'] = (data.ddn - data.dconsultation)/np.timedelta64(1, 'M')\n",
    "data['duree_totale_du_programme'] = [i if not np.isnan(i) else j for i,j in zip(data['delta_consult_concep'],data['delta_consult_ddn'])]"
   ]
  },
  {
   "cell_type": "code",
   "execution_count": null,
   "metadata": {
    "collapsed": true
   },
   "outputs": [],
   "source": []
  },
  {
   "cell_type": "code",
   "execution_count": 351,
   "metadata": {},
   "outputs": [
    {
     "data": {
      "text/plain": [
       "-0.59138791350951769"
      ]
     },
     "execution_count": 351,
     "metadata": {},
     "output_type": "execute_result"
    }
   ],
   "source": [
    "#Certaine date de conception sont antérieures à la date de la conultation. Il s'agit de données abérrantes, \n",
    "#il faudra les supprimer\n",
    "data.duree_totale_du_programme[32]"
   ]
  },
  {
   "cell_type": "code",
   "execution_count": null,
   "metadata": {
    "collapsed": true
   },
   "outputs": [],
   "source": []
  },
  {
   "cell_type": "markdown",
   "metadata": {},
   "source": [
    "### Recodage pathologie"
   ]
  },
  {
   "cell_type": "code",
   "execution_count": 352,
   "metadata": {
    "collapsed": true
   },
   "outputs": [],
   "source": [
    "dico = {'non': 'non',\n",
    " 'chimiotherapie': 'chimiotherapie',\n",
    " 'neurologique' : 'probleme neurologique',\n",
    " 'hodgkin , chimiotherapie , radiotherapie': 'chimiotherapie',\n",
    " 'sinusites chroniques' : 'probleme respiratoire',\n",
    " 'sarcome , chimiotherapie': 'chimiotherapie',\n",
    " 'cancer testis , chimiotherapie' : 'chimiotherapie',\n",
    " 'pathologies respiratoire chroniques': 'probleme respiratoire',\n",
    " 'sinusites chroniques , pathologies respiratoire chroniques': 'probleme respiratoire',\n",
    " 'chimiotherapie , radiotherapie' : 'chimiotherapie',\n",
    " 'autre' : 'autre',\n",
    " 'diabete' : 'diabete'}\n",
    "data.patho_h = data.patho_h.map(dico)\n",
    "\n"
   ]
  },
  {
   "cell_type": "code",
   "execution_count": 353,
   "metadata": {},
   "outputs": [],
   "source": [
    "dicoIsPathoH = {elem:0 if elem == 'non' else 1 for elem in list(set(data.patho_h))}\n",
    "\n",
    "catPathoF = list(set(data.patho_f))\n",
    "catPathoF = [x for x in catPathoF if str(x) != 'nan']\n",
    "\n",
    "\n",
    "dicoIsPathoF = {elem:0 if elem == 'non' else 1 for elem in catPathoF}\n",
    "\n",
    "data['isPathoH'] = data.patho_h.map(dicoIsPathoH)\n",
    "data['isPathoF'] = data.patho_f.map(dicoIsPathoF)\n",
    "\n",
    "\n"
   ]
  },
  {
   "cell_type": "code",
   "execution_count": 354,
   "metadata": {},
   "outputs": [
    {
     "data": {
      "text/plain": [
       "['azoo', 'anormal', 'normal']"
      ]
     },
     "execution_count": 354,
     "metadata": {},
     "output_type": "execute_result"
    }
   ],
   "source": [
    "list(set(data.spermo))"
   ]
  },
  {
   "cell_type": "markdown",
   "metadata": {},
   "source": [
    "Présence d'un problème chez l'homme et chez la femme"
   ]
  },
  {
   "cell_type": "code",
   "execution_count": 355,
   "metadata": {
    "collapsed": true
   },
   "outputs": [],
   "source": [
    "# L'homme a t'il un problème de santé impactant sa fécondité? Idem pour la femme\n",
    "\n",
    "pbFemme = [1 if (pat == 1) | (ct == 'dysovulation') | (ct == 'anovulation') | (bh=='anormal') \\\n",
    "           else 0 for (ct,pat,bh) in zip(data.ct_f, data.isPathoF, data.bh_f)]\n",
    "data['pb_F'] = pbFemme\n",
    "\n",
    "pbHomme = [1 if (pat == 1) | (cr == 1) | (sp == 'azoo') | (sp=='anormal') \\\n",
    "           else 0 for (cr,pat,sp) in zip(data.cryptorchidie, data.isPathoH, data.spermo)]\n",
    "data['pb_H'] = pbHomme\n",
    "\n",
    "data['pb_H_et_F'] = data['pb_F'] * data['pb_H']"
   ]
  },
  {
   "cell_type": "code",
   "execution_count": 356,
   "metadata": {},
   "outputs": [
    {
     "data": {
      "text/plain": [
       "0.4588859416445623"
      ]
     },
     "execution_count": 356,
     "metadata": {},
     "output_type": "execute_result"
    }
   ],
   "source": [
    "data.pb_H_et_F.mean()"
   ]
  },
  {
   "cell_type": "code",
   "execution_count": 357,
   "metadata": {},
   "outputs": [
    {
     "name": "stdout",
     "output_type": "stream",
     "text": [
      "Le jeu de donnée est constitué de 1131 enregistrements comportant 31 variables numériques et 13 variables catégorielles.\n"
     ]
    }
   ],
   "source": [
    "categorical_features = data.dtypes.index[(data.dtypes == 'object') | (data.dtypes == 'category')] \n",
    "numerical_features = data.dtypes.index[data.dtypes != 'object']\n",
    "numerical_features = [f for f in numerical_features if f not in ['id','enfant'] ] #Remove the target and the id\n",
    "target = data.enfant\n",
    "numerical_data = data[numerical_features]\n",
    "categorical_data = data[categorical_features]\n",
    "print('Le jeu de donnée est constitué de ' + str(data.shape[0]) + ' enregistrements comportant ' + str(data.shape[1]) + \\\n",
    "      ' variables numériques et '+ str(categorical_data.shape[1])+ ' variables catégorielles.')"
   ]
  },
  {
   "cell_type": "code",
   "execution_count": null,
   "metadata": {
    "collapsed": true
   },
   "outputs": [],
   "source": [
    "\n"
   ]
  },
  {
   "cell_type": "code",
   "execution_count": null,
   "metadata": {
    "collapsed": true
   },
   "outputs": [],
   "source": []
  },
  {
   "cell_type": "code",
   "execution_count": null,
   "metadata": {
    "collapsed": true
   },
   "outputs": [],
   "source": []
  },
  {
   "cell_type": "markdown",
   "metadata": {},
   "source": [
    "## Description de la population étudiée\n",
    "\n",
    "### Variables numériques"
   ]
  },
  {
   "cell_type": "code",
   "execution_count": null,
   "metadata": {
    "collapsed": true
   },
   "outputs": [],
   "source": []
  },
  {
   "cell_type": "code",
   "execution_count": 358,
   "metadata": {},
   "outputs": [
    {
     "data": {
      "text/html": [
       "<div>\n",
       "<style>\n",
       "    .dataframe thead tr:only-child th {\n",
       "        text-align: right;\n",
       "    }\n",
       "\n",
       "    .dataframe thead th {\n",
       "        text-align: left;\n",
       "    }\n",
       "\n",
       "    .dataframe tbody tr th {\n",
       "        vertical-align: top;\n",
       "    }\n",
       "</style>\n",
       "<table border=\"1\" class=\"dataframe\">\n",
       "  <thead>\n",
       "    <tr style=\"text-align: right;\">\n",
       "      <th></th>\n",
       "      <th>age_h</th>\n",
       "      <th>bmi_h</th>\n",
       "      <th>cryptorchidie</th>\n",
       "      <th>age_f</th>\n",
       "      <th>duree_infertilite</th>\n",
       "      <th>delta_consult_concep</th>\n",
       "      <th>delta_consult_ddn</th>\n",
       "      <th>duree_totale_du_programme</th>\n",
       "      <th>isPathoH</th>\n",
       "      <th>isPathoF</th>\n",
       "      <th>pb_F</th>\n",
       "      <th>pb_H</th>\n",
       "      <th>pb_H_et_F</th>\n",
       "    </tr>\n",
       "  </thead>\n",
       "  <tbody>\n",
       "    <tr>\n",
       "      <th>count</th>\n",
       "      <td>1131.000000</td>\n",
       "      <td>1131.000000</td>\n",
       "      <td>1131.000000</td>\n",
       "      <td>1131.000000</td>\n",
       "      <td>1131.000000</td>\n",
       "      <td>637.000000</td>\n",
       "      <td>494.000000</td>\n",
       "      <td>1131.000000</td>\n",
       "      <td>1131.000000</td>\n",
       "      <td>1131.000000</td>\n",
       "      <td>1131.000000</td>\n",
       "      <td>1131.000000</td>\n",
       "      <td>1131.000000</td>\n",
       "    </tr>\n",
       "    <tr>\n",
       "      <th>mean</th>\n",
       "      <td>33.692308</td>\n",
       "      <td>24.821211</td>\n",
       "      <td>0.139699</td>\n",
       "      <td>30.949468</td>\n",
       "      <td>31.540937</td>\n",
       "      <td>20.170010</td>\n",
       "      <td>77.847653</td>\n",
       "      <td>45.362544</td>\n",
       "      <td>0.255526</td>\n",
       "      <td>0.427940</td>\n",
       "      <td>0.564987</td>\n",
       "      <td>0.832891</td>\n",
       "      <td>0.458886</td>\n",
       "    </tr>\n",
       "    <tr>\n",
       "      <th>std</th>\n",
       "      <td>5.867785</td>\n",
       "      <td>3.450065</td>\n",
       "      <td>0.346828</td>\n",
       "      <td>4.445154</td>\n",
       "      <td>22.587268</td>\n",
       "      <td>15.996864</td>\n",
       "      <td>18.058992</td>\n",
       "      <td>33.247838</td>\n",
       "      <td>0.436349</td>\n",
       "      <td>0.494999</td>\n",
       "      <td>0.495978</td>\n",
       "      <td>0.373238</td>\n",
       "      <td>0.498527</td>\n",
       "    </tr>\n",
       "    <tr>\n",
       "      <th>min</th>\n",
       "      <td>18.000000</td>\n",
       "      <td>11.830719</td>\n",
       "      <td>0.000000</td>\n",
       "      <td>16.000000</td>\n",
       "      <td>1.000000</td>\n",
       "      <td>-9.495062</td>\n",
       "      <td>48.329534</td>\n",
       "      <td>-9.495062</td>\n",
       "      <td>0.000000</td>\n",
       "      <td>0.000000</td>\n",
       "      <td>0.000000</td>\n",
       "      <td>0.000000</td>\n",
       "      <td>0.000000</td>\n",
       "    </tr>\n",
       "    <tr>\n",
       "      <th>25%</th>\n",
       "      <td>30.000000</td>\n",
       "      <td>22.652451</td>\n",
       "      <td>0.000000</td>\n",
       "      <td>28.000000</td>\n",
       "      <td>18.000000</td>\n",
       "      <td>8.509415</td>\n",
       "      <td>60.518696</td>\n",
       "      <td>14.587569</td>\n",
       "      <td>0.000000</td>\n",
       "      <td>0.000000</td>\n",
       "      <td>0.000000</td>\n",
       "      <td>1.000000</td>\n",
       "      <td>0.000000</td>\n",
       "    </tr>\n",
       "    <tr>\n",
       "      <th>50%</th>\n",
       "      <td>33.000000</td>\n",
       "      <td>24.441802</td>\n",
       "      <td>0.000000</td>\n",
       "      <td>31.000000</td>\n",
       "      <td>24.000000</td>\n",
       "      <td>17.281669</td>\n",
       "      <td>79.295263</td>\n",
       "      <td>40.378653</td>\n",
       "      <td>0.000000</td>\n",
       "      <td>0.000000</td>\n",
       "      <td>1.000000</td>\n",
       "      <td>1.000000</td>\n",
       "      <td>0.000000</td>\n",
       "    </tr>\n",
       "    <tr>\n",
       "      <th>75%</th>\n",
       "      <td>37.000000</td>\n",
       "      <td>26.234568</td>\n",
       "      <td>0.000000</td>\n",
       "      <td>34.000000</td>\n",
       "      <td>36.000000</td>\n",
       "      <td>29.306557</td>\n",
       "      <td>93.012177</td>\n",
       "      <td>74.350603</td>\n",
       "      <td>1.000000</td>\n",
       "      <td>1.000000</td>\n",
       "      <td>1.000000</td>\n",
       "      <td>1.000000</td>\n",
       "      <td>1.000000</td>\n",
       "    </tr>\n",
       "    <tr>\n",
       "      <th>max</th>\n",
       "      <td>61.000000</td>\n",
       "      <td>54.143211</td>\n",
       "      <td>1.000000</td>\n",
       "      <td>47.000000</td>\n",
       "      <td>168.000000</td>\n",
       "      <td>88.412493</td>\n",
       "      <td>108.125424</td>\n",
       "      <td>108.125424</td>\n",
       "      <td>1.000000</td>\n",
       "      <td>1.000000</td>\n",
       "      <td>1.000000</td>\n",
       "      <td>1.000000</td>\n",
       "      <td>1.000000</td>\n",
       "    </tr>\n",
       "  </tbody>\n",
       "</table>\n",
       "</div>"
      ],
      "text/plain": [
       "             age_h        bmi_h  cryptorchidie        age_f  \\\n",
       "count  1131.000000  1131.000000    1131.000000  1131.000000   \n",
       "mean     33.692308    24.821211       0.139699    30.949468   \n",
       "std       5.867785     3.450065       0.346828     4.445154   \n",
       "min      18.000000    11.830719       0.000000    16.000000   \n",
       "25%      30.000000    22.652451       0.000000    28.000000   \n",
       "50%      33.000000    24.441802       0.000000    31.000000   \n",
       "75%      37.000000    26.234568       0.000000    34.000000   \n",
       "max      61.000000    54.143211       1.000000    47.000000   \n",
       "\n",
       "       duree_infertilite  delta_consult_concep  delta_consult_ddn  \\\n",
       "count        1131.000000            637.000000         494.000000   \n",
       "mean           31.540937             20.170010          77.847653   \n",
       "std            22.587268             15.996864          18.058992   \n",
       "min             1.000000             -9.495062          48.329534   \n",
       "25%            18.000000              8.509415          60.518696   \n",
       "50%            24.000000             17.281669          79.295263   \n",
       "75%            36.000000             29.306557          93.012177   \n",
       "max           168.000000             88.412493         108.125424   \n",
       "\n",
       "       duree_totale_du_programme     isPathoH     isPathoF         pb_F  \\\n",
       "count                1131.000000  1131.000000  1131.000000  1131.000000   \n",
       "mean                   45.362544     0.255526     0.427940     0.564987   \n",
       "std                    33.247838     0.436349     0.494999     0.495978   \n",
       "min                    -9.495062     0.000000     0.000000     0.000000   \n",
       "25%                    14.587569     0.000000     0.000000     0.000000   \n",
       "50%                    40.378653     0.000000     0.000000     1.000000   \n",
       "75%                    74.350603     1.000000     1.000000     1.000000   \n",
       "max                   108.125424     1.000000     1.000000     1.000000   \n",
       "\n",
       "              pb_H    pb_H_et_F  \n",
       "count  1131.000000  1131.000000  \n",
       "mean      0.832891     0.458886  \n",
       "std       0.373238     0.498527  \n",
       "min       0.000000     0.000000  \n",
       "25%       1.000000     0.000000  \n",
       "50%       1.000000     0.000000  \n",
       "75%       1.000000     1.000000  \n",
       "max       1.000000     1.000000  "
      ]
     },
     "execution_count": 358,
     "metadata": {},
     "output_type": "execute_result"
    }
   ],
   "source": [
    "numerical_data.describe()"
   ]
  },
  {
   "cell_type": "code",
   "execution_count": 359,
   "metadata": {},
   "outputs": [
    {
     "data": {
      "text/plain": [
       "<matplotlib.axes._subplots.AxesSubplot at 0x1c27bff240>"
      ]
     },
     "execution_count": 359,
     "metadata": {},
     "output_type": "execute_result"
    },
    {
     "data": {
      "image/png": "[encoded data removed]",
      "text/plain": [
       "<matplotlib.figure.Figure at 0x1c27bff6a0>"
      ]
     },
     "metadata": {},
     "output_type": "display_data"
    }
   ],
   "source": [
    "%matplotlib inline\n",
    "sns.distplot(data.age_h, bins=5, kde=False, rug=True)"
   ]
  },
  {
   "cell_type": "markdown",
   "metadata": {},
   "source": [
    "### Variables catégorielles"
   ]
  },
  {
   "cell_type": "code",
   "execution_count": 360,
   "metadata": {
    "collapsed": true
   },
   "outputs": [],
   "source": [
    "def barplot_percentage(varName, data, title,ax=None):\n",
    "    total = float(len(data))\n",
    "    ax = sns.countplot(x=varName, data=data,ax = ax ) # for Seaborn version 0.7 and more\n",
    "    for p in ax.patches:\n",
    "        height = p.get_height()\n",
    "        ax.text(p.get_x()+p.get_width()/2.,\n",
    "                height + 20,\n",
    "                '{:1.2f} %'.format(height/total*100),\n",
    "                ha=\"center\") \n",
    "    ax.set_title(title)\n",
    "    ax.set(ylim=(0, 800))\n"
   ]
  },
  {
   "cell_type": "code",
   "execution_count": null,
   "metadata": {
    "collapsed": true
   },
   "outputs": [],
   "source": []
  },
  {
   "cell_type": "code",
   "execution_count": null,
   "metadata": {
    "collapsed": true
   },
   "outputs": [],
   "source": []
  },
  {
   "cell_type": "markdown",
   "metadata": {},
   "source": [
    "#### Données socio-démographique\n"
   ]
  },
  {
   "cell_type": "code",
   "execution_count": null,
   "metadata": {
    "collapsed": true
   },
   "outputs": [],
   "source": []
  },
  {
   "cell_type": "code",
   "execution_count": 361,
   "metadata": {},
   "outputs": [
    {
     "data": {
      "image/png": "[encoded data removed]",
      "text/plain": [
       "<matplotlib.figure.Figure at 0x1c29abfcc0>"
      ]
     },
     "metadata": {},
     "output_type": "display_data"
    }
   ],
   "source": [
    "fig, axs = plt.subplots(ncols=2,nrows = 2, figsize=(12,8))\n",
    "\n",
    "barplot_percentage('diplome_h', data, 'Répartition selon le niveau d\\'étude de l\\'homme', ax = axs[0,0])\n",
    "barplot_percentage('diplome_f', data, 'Répartition selon le niveau d\\'étude de la femme', ax = axs[0,1])\n",
    "barplot_percentage('tranche_age_h', data, 'Répartition selon l\\'âge de l\\'homme', ax = axs[1,0])\n",
    "barplot_percentage('tranche_age_f', data, 'Répartition selon l\\'âge de la femme', ax = axs[1,1])\n",
    "fig.tight_layout()"
   ]
  },
  {
   "cell_type": "markdown",
   "metadata": {},
   "source": [
    "#### Etat de santé \n",
    "\n",
    "Plusieurs variables indiquent l'état de santé des couples:\n",
    "- Indice de masse corporel\n",
    "- Pathologie/problèmes de santé chez l'homme et la femme\n",
    "- Cryptorchidie chez l'homme\n",
    "- Spectrogramme chez l'homme\n",
    "- Bilan hormonal de la femme\n",
    "- Ovulation de la femme"
   ]
  },
  {
   "cell_type": "code",
   "execution_count": 362,
   "metadata": {},
   "outputs": [
    {
     "data": {
      "image/png": "[encoded data removed]",
      "text/plain": [
       "<matplotlib.figure.Figure at 0x1c29ab5b38>"
      ]
     },
     "metadata": {},
     "output_type": "display_data"
    }
   ],
   "source": [
    "#data.tranche_bmi_h = data.tranche_bmi_h.fillna('Denutrition ou anorexie')\n",
    "plt.figure(figsize=(20,10))\n",
    "barplot_percentage('tranche_bmi_h', data, 'fr')\n",
    "plt.tight_layout()\n",
    "\n",
    "\n"
   ]
  },
  {
   "cell_type": "code",
   "execution_count": null,
   "metadata": {
    "collapsed": true
   },
   "outputs": [],
   "source": []
  },
  {
   "cell_type": "code",
   "execution_count": null,
   "metadata": {
    "collapsed": true
   },
   "outputs": [],
   "source": []
  },
  {
   "cell_type": "code",
   "execution_count": 363,
   "metadata": {},
   "outputs": [
    {
     "data": {
      "image/png": "[encoded data removed]",
      "text/plain": [
       "<matplotlib.figure.Figure at 0x1c29cb7860>"
      ]
     },
     "metadata": {},
     "output_type": "display_data"
    }
   ],
   "source": [
    "fig, axs = plt.subplots(ncols=2, figsize=(12,8))\n",
    "barplot_percentage('patho_h', data, 'Répartition selon patho homme', ax = axs[0])\n",
    "barplot_percentage('patho_f', data, 'Répartition selon patho femme', ax = axs[1])\n",
    "fig.tight_layout()"
   ]
  },
  {
   "cell_type": "code",
   "execution_count": null,
   "metadata": {
    "collapsed": true
   },
   "outputs": [],
   "source": []
  },
  {
   "cell_type": "code",
   "execution_count": null,
   "metadata": {
    "collapsed": true
   },
   "outputs": [],
   "source": []
  },
  {
   "cell_type": "code",
   "execution_count": 364,
   "metadata": {},
   "outputs": [
    {
     "data": {
      "image/png": "[encoded data removed]",
      "text/plain": [
       "<matplotlib.figure.Figure at 0x1c29e8f518>"
      ]
     },
     "metadata": {},
     "output_type": "display_data"
    }
   ],
   "source": [
    "fig, axs = plt.subplots(ncols=2, figsize=(12,8))\n",
    "barplot_percentage('cryptorchidie', data, 'Répartition selon la présence de cryptorchidie chez l\\'homme', ax = axs[0])\n",
    "barplot_percentage('spermo', data, 'Répartition selon le spermogramme de l\\'homme', ax = axs[1])\n",
    "fig.tight_layout()"
   ]
  },
  {
   "cell_type": "code",
   "execution_count": 365,
   "metadata": {},
   "outputs": [
    {
     "data": {
      "image/png": "[encoded data removed]",
      "text/plain": [
       "<matplotlib.figure.Figure at 0x1c29fe0a20>"
      ]
     },
     "metadata": {},
     "output_type": "display_data"
    }
   ],
   "source": [
    "fig, axs = plt.subplots(ncols=2, figsize=(12,8))\n",
    "barplot_percentage('bh_f', data, 'Répartition selon le bilan hormonal de la femme', ax = axs[0])\n",
    "barplot_percentage('ct_f', data, 'Répartition selon l\\'ovulation chez la femme', ax = axs[1])\n",
    "fig.tight_layout()"
   ]
  },
  {
   "cell_type": "code",
   "execution_count": null,
   "metadata": {
    "collapsed": true
   },
   "outputs": [],
   "source": [
    "\n",
    "\n",
    "\n"
   ]
  },
  {
   "cell_type": "code",
   "execution_count": 366,
   "metadata": {},
   "outputs": [
    {
     "data": {
      "image/png": "[encoded data removed]",
      "text/plain": [
       "<matplotlib.figure.Figure at 0x1c29fe00f0>"
      ]
     },
     "metadata": {},
     "output_type": "display_data"
    }
   ],
   "source": [
    "#On a pas pris en compte les nan\n",
    "fig, axs = plt.subplots(ncols=3, figsize=(12,8))\n",
    "barplot_percentage('pb_H', data, 'Problème chez l\\'homme', ax = axs[0])\n",
    "barplot_percentage('pb_F', data, 'Problème chez la femme', ax = axs[1])\n",
    "barplot_percentage('pb_H_et_F', data, 'Problème chez la femme et l\\'homme', ax = axs[2])\n",
    "\n",
    "\n",
    "fig.tight_layout()"
   ]
  },
  {
   "cell_type": "markdown",
   "metadata": {
    "collapsed": true
   },
   "source": [
    "Il y a un problème chez l'homme 83% du temps contre 37% chez la femme et 32% du temps, il y a un problème chez les deux"
   ]
  },
  {
   "cell_type": "code",
   "execution_count": 367,
   "metadata": {},
   "outputs": [
    {
     "data": {
      "text/plain": [
       "<matplotlib.axes._subplots.AxesSubplot at 0x1c2a3fe8d0>"
      ]
     },
     "execution_count": 367,
     "metadata": {},
     "output_type": "execute_result"
    },
    {
     "data": {
      "image/png": "[encoded data removed]",
      "text/plain": [
       "<matplotlib.figure.Figure at 0x1c29fe04a8>"
      ]
     },
     "metadata": {},
     "output_type": "display_data"
    }
   ],
   "source": [
    "sns.barplot(data.pb_H, data.enfant - data.enfant.mean())"
   ]
  },
  {
   "cell_type": "markdown",
   "metadata": {},
   "source": [
    "Boxplot pour variables continues"
   ]
  },
  {
   "cell_type": "code",
   "execution_count": 368,
   "metadata": {},
   "outputs": [
    {
     "data": {
      "text/plain": [
       "<matplotlib.axes._subplots.AxesSubplot at 0x1c2a4e16d8>"
      ]
     },
     "execution_count": 368,
     "metadata": {},
     "output_type": "execute_result"
    },
    {
     "data": {
      "image/png": "[encoded data removed]",
      "text/plain": [
       "<matplotlib.figure.Figure at 0x1c29fbefd0>"
      ]
     },
     "metadata": {},
     "output_type": "display_data"
    }
   ],
   "source": [
    "sns.barplot(data.patho_h, data.enfant - data.enfant.mean())"
   ]
  },
  {
   "cell_type": "code",
   "execution_count": 369,
   "metadata": {},
   "outputs": [
    {
     "data": {
      "text/plain": [
       "<matplotlib.axes._subplots.AxesSubplot at 0x1c2a55f898>"
      ]
     },
     "execution_count": 369,
     "metadata": {},
     "output_type": "execute_result"
    },
    {
     "data": {
      "image/png": "[encoded data removed]",
      "text/plain": [
       "<matplotlib.figure.Figure at 0x1c2a4b1358>"
      ]
     },
     "metadata": {},
     "output_type": "display_data"
    }
   ],
   "source": [
    "sns.barplot(data.pb_F, data.enfant - data.enfant.mean())"
   ]
  },
  {
   "cell_type": "code",
   "execution_count": 370,
   "metadata": {},
   "outputs": [
    {
     "data": {
      "text/plain": [
       "<matplotlib.axes._subplots.AxesSubplot at 0x1c2a568668>"
      ]
     },
     "execution_count": 370,
     "metadata": {},
     "output_type": "execute_result"
    },
    {
     "data": {
      "image/png": "[encoded data removed]",
      "text/plain": [
       "<matplotlib.figure.Figure at 0x1c29e958d0>"
      ]
     },
     "metadata": {},
     "output_type": "display_data"
    }
   ],
   "source": [
    "sns.barplot(data.bh_f, data.enfant - data.enfant.mean())"
   ]
  },
  {
   "cell_type": "code",
   "execution_count": 371,
   "metadata": {},
   "outputs": [
    {
     "data": {
      "text/plain": [
       "Index(['id', 'enfant', 'dconsultation', 'dconception', 'ddn', 'age_h',\n",
       "       'diplome_h', 'bmi_h', 'patho_h', 'cryptorchidie', 'spermo', 'age_f',\n",
       "       'diplome_f', 'bh_f', 'ct_f', 'patho_f', 'fecondite',\n",
       "       'duree_infertilite', 'traitement', 'tranche_age_h', 'tranche_age_f',\n",
       "       'tranche_bmi_h', 'tranche_duree_infertilite', 'delta_consult_concep',\n",
       "       'delta_consult_ddn', 'duree_totale_du_programme', 'isPathoH',\n",
       "       'isPathoF', 'pb_F', 'pb_H', 'pb_H_et_F'],\n",
       "      dtype='object')"
      ]
     },
     "execution_count": 371,
     "metadata": {},
     "output_type": "execute_result"
    }
   ],
   "source": [
    "data.columns\n"
   ]
  },
  {
   "cell_type": "code",
   "execution_count": 372,
   "metadata": {},
   "outputs": [
    {
     "data": {
      "text/plain": [
       "id                                    int64\n",
       "enfant                                int64\n",
       "dconsultation                datetime64[ns]\n",
       "dconception                  datetime64[ns]\n",
       "ddn                          datetime64[ns]\n",
       "age_h                                 int64\n",
       "diplome_h                            object\n",
       "bmi_h                               float64\n",
       "patho_h                              object\n",
       "cryptorchidie                         int64\n",
       "spermo                               object\n",
       "age_f                               float64\n",
       "diplome_f                            object\n",
       "bh_f                                 object\n",
       "ct_f                                 object\n",
       "patho_f                              object\n",
       "fecondite                            object\n",
       "duree_infertilite                   float64\n",
       "traitement                           object\n",
       "tranche_age_h                      category\n",
       "tranche_age_f                      category\n",
       "tranche_bmi_h                      category\n",
       "tranche_duree_infertilite          category\n",
       "delta_consult_concep                float64\n",
       "delta_consult_ddn                   float64\n",
       "duree_totale_du_programme           float64\n",
       "isPathoH                              int64\n",
       "isPathoF                              int64\n",
       "pb_F                                  int64\n",
       "pb_H                                  int64\n",
       "pb_H_et_F                             int64\n",
       "dtype: object"
      ]
     },
     "execution_count": 372,
     "metadata": {},
     "output_type": "execute_result"
    }
   ],
   "source": [
    "data.dtypes\n"
   ]
  },
  {
   "cell_type": "code",
   "execution_count": 373,
   "metadata": {
    "collapsed": true
   },
   "outputs": [],
   "source": [
    "data = pd.concat([\n",
    "        data.select_dtypes([], ['object']),\n",
    "        data.select_dtypes(['object']).apply(pd.Series.astype, dtype='category')\n",
    "        ], axis=1).reindex_axis(data.columns, axis=1)\n"
   ]
  },
  {
   "cell_type": "code",
   "execution_count": 374,
   "metadata": {},
   "outputs": [
    {
     "data": {
      "text/plain": [
       "id                                    int64\n",
       "enfant                                int64\n",
       "dconsultation                datetime64[ns]\n",
       "dconception                  datetime64[ns]\n",
       "ddn                          datetime64[ns]\n",
       "age_h                                 int64\n",
       "diplome_h                          category\n",
       "bmi_h                               float64\n",
       "patho_h                            category\n",
       "cryptorchidie                         int64\n",
       "spermo                             category\n",
       "age_f                               float64\n",
       "diplome_f                          category\n",
       "bh_f                               category\n",
       "ct_f                               category\n",
       "patho_f                            category\n",
       "fecondite                          category\n",
       "duree_infertilite                   float64\n",
       "traitement                         category\n",
       "tranche_age_h                      category\n",
       "tranche_age_f                      category\n",
       "tranche_bmi_h                      category\n",
       "tranche_duree_infertilite          category\n",
       "delta_consult_concep                float64\n",
       "delta_consult_ddn                   float64\n",
       "duree_totale_du_programme           float64\n",
       "isPathoH                              int64\n",
       "isPathoF                              int64\n",
       "pb_F                                  int64\n",
       "pb_H                                  int64\n",
       "pb_H_et_F                             int64\n",
       "dtype: object"
      ]
     },
     "execution_count": 374,
     "metadata": {},
     "output_type": "execute_result"
    }
   ],
   "source": [
    "data.dtypes\n"
   ]
  },
  {
   "cell_type": "markdown",
   "metadata": {},
   "source": [
    "REGARDER L'INFLUENCE DES TRAITEMENTS SUR LES PATHOLOGIES"
   ]
  },
  {
   "cell_type": "code",
   "execution_count": 375,
   "metadata": {
    "collapsed": true
   },
   "outputs": [],
   "source": [
    "data  = pd.get_dummies(data,drop_first=True)"
   ]
  },
  {
   "cell_type": "code",
   "execution_count": 376,
   "metadata": {},
   "outputs": [
    {
     "data": {
      "text/plain": [
       "Index(['id', 'enfant', 'dconsultation', 'dconception', 'ddn', 'age_h', 'bmi_h',\n",
       "       'cryptorchidie', 'age_f', 'duree_infertilite', 'delta_consult_concep',\n",
       "       'delta_consult_ddn', 'duree_totale_du_programme', 'isPathoH',\n",
       "       'isPathoF', 'pb_F', 'pb_H', 'pb_H_et_F', 'diplome_h_Bac+',\n",
       "       'diplome_h_Bac-', 'patho_h_chimiotherapie', 'patho_h_diabete',\n",
       "       'patho_h_non', 'patho_h_probleme neurologique',\n",
       "       'patho_h_probleme respiratoire', 'spermo_azoo', 'spermo_normal',\n",
       "       'diplome_f_Bac+', 'diplome_f_Bac-', 'bh_f_anormal', 'bh_f_normal',\n",
       "       'ct_f_anovulation', 'ct_f_dysovulation', 'ct_f_ovulation',\n",
       "       'patho_f_autre', 'patho_f_endometriose', 'patho_f_hydrosalpinx',\n",
       "       'patho_f_non', 'patho_f_pb tubaire bilateral',\n",
       "       'patho_f_pb tubaire unilateral', 'fecondite_secondaire',\n",
       "       'traitement_FIV', 'traitement_IAC', 'traitement_IAD', 'traitement_ICSI',\n",
       "       'traitement_Medical', 'tranche_age_h_30 à 40 ans',\n",
       "       'tranche_age_h_40 à 50 ans', 'tranche_age_h_+ 50 ans',\n",
       "       'tranche_age_f_30 à 40 ans', 'tranche_age_f_+ 40 ans',\n",
       "       'tranche_bmi_h_Maigreur', 'tranche_bmi_h_Corpulence normale',\n",
       "       'tranche_bmi_h_Surpoid', 'tranche_bmi_h_Obesite',\n",
       "       'tranche_duree_infertilite_6-12 mois',\n",
       "       'tranche_duree_infertilite_1-2 ans',\n",
       "       'tranche_duree_infertilite_+ 2ans'],\n",
       "      dtype='object')"
      ]
     },
     "execution_count": 376,
     "metadata": {},
     "output_type": "execute_result"
    }
   ],
   "source": [
    "data.columns\n"
   ]
  },
  {
   "cell_type": "code",
   "execution_count": 377,
   "metadata": {},
   "outputs": [],
   "source": [
    "dataLogit = data[data.columns.difference(['id','dconsultation', 'dconception', 'ddn','enfant','delta_consult_concep','delta_consult_ddn','isPathoF','duree_totale_du_programme' ])]"
   ]
  },
  {
   "cell_type": "code",
   "execution_count": 378,
   "metadata": {},
   "outputs": [
    {
     "data": {
      "text/plain": [
       "age_f                                  False\n",
       "age_h                                  False\n",
       "bh_f_anormal                           False\n",
       "bh_f_normal                            False\n",
       "bmi_h                                  False\n",
       "cryptorchidie                          False\n",
       "ct_f_anovulation                       False\n",
       "ct_f_dysovulation                      False\n",
       "ct_f_ovulation                         False\n",
       "diplome_f_Bac+                         False\n",
       "diplome_f_Bac-                         False\n",
       "diplome_h_Bac+                         False\n",
       "diplome_h_Bac-                         False\n",
       "duree_infertilite                      False\n",
       "fecondite_secondaire                   False\n",
       "isPathoH                               False\n",
       "patho_f_autre                          False\n",
       "patho_f_endometriose                   False\n",
       "patho_f_hydrosalpinx                   False\n",
       "patho_f_non                            False\n",
       "patho_f_pb tubaire bilateral           False\n",
       "patho_f_pb tubaire unilateral          False\n",
       "patho_h_chimiotherapie                 False\n",
       "patho_h_diabete                        False\n",
       "patho_h_non                            False\n",
       "patho_h_probleme neurologique          False\n",
       "patho_h_probleme respiratoire          False\n",
       "pb_F                                   False\n",
       "pb_H                                   False\n",
       "pb_H_et_F                              False\n",
       "spermo_azoo                            False\n",
       "spermo_normal                          False\n",
       "traitement_FIV                         False\n",
       "traitement_IAC                         False\n",
       "traitement_IAD                         False\n",
       "traitement_ICSI                        False\n",
       "traitement_Medical                     False\n",
       "tranche_age_f_+ 40 ans                 False\n",
       "tranche_age_f_30 à 40 ans              False\n",
       "tranche_age_h_+ 50 ans                 False\n",
       "tranche_age_h_30 à 40 ans              False\n",
       "tranche_age_h_40 à 50 ans              False\n",
       "tranche_bmi_h_Corpulence normale       False\n",
       "tranche_bmi_h_Maigreur                 False\n",
       "tranche_bmi_h_Obesite                  False\n",
       "tranche_bmi_h_Surpoid                  False\n",
       "tranche_duree_infertilite_+ 2ans       False\n",
       "tranche_duree_infertilite_1-2 ans      False\n",
       "tranche_duree_infertilite_6-12 mois    False\n",
       "dtype: bool"
      ]
     },
     "execution_count": 378,
     "metadata": {},
     "output_type": "execute_result"
    }
   ],
   "source": [
    "dataLogit.isnull().any()"
   ]
  },
  {
   "cell_type": "code",
   "execution_count": 379,
   "metadata": {},
   "outputs": [
    {
     "name": "stdout",
     "output_type": "stream",
     "text": [
      "Warning: Maximum number of iterations has been exceeded.\n",
      "         Current function value: 0.605504\n",
      "         Iterations: 35\n"
     ]
    },
    {
     "name": "stderr",
     "output_type": "stream",
     "text": [
      "/anaconda3/lib/python3.6/site-packages/statsmodels/base/model.py:496: ConvergenceWarning: Maximum Likelihood optimization failed to converge. Check mle_retvals\n",
      "  \"Check mle_retvals\", ConvergenceWarning)\n"
     ]
    }
   ],
   "source": [
    "import statsmodels.api as sm\n",
    "log = sm.Logit(data.enfant,dataLogit)\n",
    "ok = log.fit()"
   ]
  },
  {
   "cell_type": "code",
   "execution_count": 380,
   "metadata": {},
   "outputs": [
    {
     "data": {
      "text/plain": [
       "0.67462422634836428"
      ]
     },
     "execution_count": 380,
     "metadata": {},
     "output_type": "execute_result"
    }
   ],
   "source": [
    "table = ok.pred_table(threshold=0.5)\n",
    "(table[0,0] + table[1,1]) / (table.sum())"
   ]
  },
  {
   "cell_type": "code",
   "execution_count": 381,
   "metadata": {},
   "outputs": [
    {
     "data": {
      "text/plain": [
       "1131.0"
      ]
     },
     "execution_count": 381,
     "metadata": {},
     "output_type": "execute_result"
    }
   ],
   "source": [
    "table.sum()"
   ]
  },
  {
   "cell_type": "code",
   "execution_count": 382,
   "metadata": {},
   "outputs": [
    {
     "data": {
      "text/html": [
       "<table class=\"simpletable\">\n",
       "<caption>Logit Regression Results</caption>\n",
       "<tr>\n",
       "  <th>Dep. Variable:</th>      <td>enfant</td>      <th>  No. Observations:  </th>  <td>  1131</td>  \n",
       "</tr>\n",
       "<tr>\n",
       "  <th>Model:</th>               <td>Logit</td>      <th>  Df Residuals:      </th>  <td>  1082</td>  \n",
       "</tr>\n",
       "<tr>\n",
       "  <th>Method:</th>               <td>MLE</td>       <th>  Df Model:          </th>  <td>    48</td>  \n",
       "</tr>\n",
       "<tr>\n",
       "  <th>Date:</th>          <td>Tue, 30 Jan 2018</td> <th>  Pseudo R-squ.:     </th>  <td>0.1162</td>  \n",
       "</tr>\n",
       "<tr>\n",
       "  <th>Time:</th>              <td>14:44:26</td>     <th>  Log-Likelihood:    </th> <td> -684.82</td> \n",
       "</tr>\n",
       "<tr>\n",
       "  <th>converged:</th>           <td>False</td>      <th>  LL-Null:           </th> <td> -774.88</td> \n",
       "</tr>\n",
       "<tr>\n",
       "  <th> </th>                      <td> </td>        <th>  LLR p-value:       </th> <td>3.589e-17</td>\n",
       "</tr>\n",
       "</table>\n",
       "<table class=\"simpletable\">\n",
       "<tr>\n",
       "                   <td></td>                      <th>coef</th>     <th>std err</th>      <th>z</th>      <th>P>|z|</th>  <th>[0.025</th>    <th>0.975]</th>  \n",
       "</tr>\n",
       "<tr>\n",
       "  <th>age_f</th>                               <td>   -0.0551</td> <td>    0.030</td> <td>   -1.850</td> <td> 0.064</td> <td>   -0.113</td> <td>    0.003</td>\n",
       "</tr>\n",
       "<tr>\n",
       "  <th>age_h</th>                               <td>   -0.0194</td> <td>    0.029</td> <td>   -0.676</td> <td> 0.499</td> <td>   -0.076</td> <td>    0.037</td>\n",
       "</tr>\n",
       "<tr>\n",
       "  <th>bh_f_anormal</th>                        <td>    0.3290</td> <td>    0.321</td> <td>    1.026</td> <td> 0.305</td> <td>   -0.299</td> <td>    0.957</td>\n",
       "</tr>\n",
       "<tr>\n",
       "  <th>bh_f_normal</th>                         <td>    0.1998</td> <td>    0.223</td> <td>    0.897</td> <td> 0.370</td> <td>   -0.237</td> <td>    0.637</td>\n",
       "</tr>\n",
       "<tr>\n",
       "  <th>bmi_h</th>                               <td>    0.0230</td> <td>    0.038</td> <td>    0.601</td> <td> 0.548</td> <td>   -0.052</td> <td>    0.098</td>\n",
       "</tr>\n",
       "<tr>\n",
       "  <th>cryptorchidie</th>                       <td>    0.1057</td> <td>    0.192</td> <td>    0.549</td> <td> 0.583</td> <td>   -0.272</td> <td>    0.483</td>\n",
       "</tr>\n",
       "<tr>\n",
       "  <th>ct_f_anovulation</th>                    <td>   -0.3199</td> <td>    0.392</td> <td>   -0.817</td> <td> 0.414</td> <td>   -1.087</td> <td>    0.447</td>\n",
       "</tr>\n",
       "<tr>\n",
       "  <th>ct_f_dysovulation</th>                   <td>   -0.0967</td> <td>    0.311</td> <td>   -0.311</td> <td> 0.756</td> <td>   -0.706</td> <td>    0.512</td>\n",
       "</tr>\n",
       "<tr>\n",
       "  <th>ct_f_ovulation</th>                      <td>   -0.3433</td> <td>    0.218</td> <td>   -1.577</td> <td> 0.115</td> <td>   -0.770</td> <td>    0.083</td>\n",
       "</tr>\n",
       "<tr>\n",
       "  <th>diplome_f_Bac+</th>                      <td>   -0.0423</td> <td>    0.184</td> <td>   -0.229</td> <td> 0.819</td> <td>   -0.404</td> <td>    0.319</td>\n",
       "</tr>\n",
       "<tr>\n",
       "  <th>diplome_f_Bac-</th>                      <td>    0.0575</td> <td>    0.198</td> <td>    0.290</td> <td> 0.772</td> <td>   -0.331</td> <td>    0.446</td>\n",
       "</tr>\n",
       "<tr>\n",
       "  <th>diplome_h_Bac+</th>                      <td>    0.5684</td> <td>    0.197</td> <td>    2.885</td> <td> 0.004</td> <td>    0.182</td> <td>    0.954</td>\n",
       "</tr>\n",
       "<tr>\n",
       "  <th>diplome_h_Bac-</th>                      <td>    0.4886</td> <td>    0.195</td> <td>    2.499</td> <td> 0.012</td> <td>    0.105</td> <td>    0.872</td>\n",
       "</tr>\n",
       "<tr>\n",
       "  <th>duree_infertilite</th>                   <td>   -0.0033</td> <td>    0.004</td> <td>   -0.773</td> <td> 0.440</td> <td>   -0.012</td> <td>    0.005</td>\n",
       "</tr>\n",
       "<tr>\n",
       "  <th>fecondite_secondaire</th>                <td>    0.0535</td> <td>    0.153</td> <td>    0.350</td> <td> 0.726</td> <td>   -0.246</td> <td>    0.353</td>\n",
       "</tr>\n",
       "<tr>\n",
       "  <th>isPathoH</th>                            <td>  -14.8606</td> <td> 6790.914</td> <td>   -0.002</td> <td> 0.998</td> <td>-1.33e+04</td> <td> 1.33e+04</td>\n",
       "</tr>\n",
       "<tr>\n",
       "  <th>patho_f_autre</th>                       <td>   -0.2559</td> <td>    0.543</td> <td>   -0.472</td> <td> 0.637</td> <td>   -1.320</td> <td>    0.808</td>\n",
       "</tr>\n",
       "<tr>\n",
       "  <th>patho_f_endometriose</th>                <td>   -0.0831</td> <td>    0.552</td> <td>   -0.150</td> <td> 0.880</td> <td>   -1.165</td> <td>    0.999</td>\n",
       "</tr>\n",
       "<tr>\n",
       "  <th>patho_f_hydrosalpinx</th>                <td>   -0.1684</td> <td>    1.512</td> <td>   -0.111</td> <td> 0.911</td> <td>   -3.132</td> <td>    2.795</td>\n",
       "</tr>\n",
       "<tr>\n",
       "  <th>patho_f_non</th>                         <td>   -0.0838</td> <td>    0.318</td> <td>   -0.263</td> <td> 0.792</td> <td>   -0.708</td> <td>    0.540</td>\n",
       "</tr>\n",
       "<tr>\n",
       "  <th>patho_f_pb tubaire bilateral</th>        <td>   -0.1100</td> <td>    0.600</td> <td>   -0.183</td> <td> 0.855</td> <td>   -1.285</td> <td>    1.066</td>\n",
       "</tr>\n",
       "<tr>\n",
       "  <th>patho_f_pb tubaire unilateral</th>       <td>   -0.4013</td> <td>    0.338</td> <td>   -1.189</td> <td> 0.234</td> <td>   -1.063</td> <td>    0.260</td>\n",
       "</tr>\n",
       "<tr>\n",
       "  <th>patho_h_chimiotherapie</th>              <td>   -0.9537</td> <td>    0.722</td> <td>   -1.320</td> <td> 0.187</td> <td>   -2.370</td> <td>    0.462</td>\n",
       "</tr>\n",
       "<tr>\n",
       "  <th>patho_h_diabete</th>                     <td>   -1.0470</td> <td>    0.940</td> <td>   -1.114</td> <td> 0.265</td> <td>   -2.888</td> <td>    0.794</td>\n",
       "</tr>\n",
       "<tr>\n",
       "  <th>patho_h_non</th>                         <td>  -14.8159</td> <td> 6790.914</td> <td>   -0.002</td> <td> 0.998</td> <td>-1.33e+04</td> <td> 1.33e+04</td>\n",
       "</tr>\n",
       "<tr>\n",
       "  <th>patho_h_probleme neurologique</th>       <td>  -11.4968</td> <td>  362.294</td> <td>   -0.032</td> <td> 0.975</td> <td> -721.579</td> <td>  698.586</td>\n",
       "</tr>\n",
       "<tr>\n",
       "  <th>patho_h_probleme respiratoire</th>       <td>    0.4574</td> <td>    0.385</td> <td>    1.187</td> <td> 0.235</td> <td>   -0.298</td> <td>    1.212</td>\n",
       "</tr>\n",
       "<tr>\n",
       "  <th>pb_F</th>                                <td>   -0.3394</td> <td>    0.461</td> <td>   -0.736</td> <td> 0.462</td> <td>   -1.243</td> <td>    0.564</td>\n",
       "</tr>\n",
       "<tr>\n",
       "  <th>pb_H</th>                                <td>    0.1439</td> <td>    0.451</td> <td>    0.319</td> <td> 0.750</td> <td>   -0.741</td> <td>    1.029</td>\n",
       "</tr>\n",
       "<tr>\n",
       "  <th>pb_H_et_F</th>                           <td>   -0.0817</td> <td>    0.379</td> <td>   -0.216</td> <td> 0.829</td> <td>   -0.824</td> <td>    0.660</td>\n",
       "</tr>\n",
       "<tr>\n",
       "  <th>spermo_azoo</th>                         <td>   -0.7839</td> <td>    0.203</td> <td>   -3.862</td> <td> 0.000</td> <td>   -1.182</td> <td>   -0.386</td>\n",
       "</tr>\n",
       "<tr>\n",
       "  <th>spermo_normal</th>                       <td>    0.7571</td> <td>    0.341</td> <td>    2.220</td> <td> 0.026</td> <td>    0.089</td> <td>    1.426</td>\n",
       "</tr>\n",
       "<tr>\n",
       "  <th>traitement_FIV</th>                      <td>   -0.3229</td> <td>    0.308</td> <td>   -1.047</td> <td> 0.295</td> <td>   -0.927</td> <td>    0.281</td>\n",
       "</tr>\n",
       "<tr>\n",
       "  <th>traitement_IAC</th>                      <td>    0.5418</td> <td>    0.265</td> <td>    2.047</td> <td> 0.041</td> <td>    0.023</td> <td>    1.061</td>\n",
       "</tr>\n",
       "<tr>\n",
       "  <th>traitement_IAD</th>                      <td>    1.2028</td> <td>    0.380</td> <td>    3.169</td> <td> 0.002</td> <td>    0.459</td> <td>    1.947</td>\n",
       "</tr>\n",
       "<tr>\n",
       "  <th>traitement_ICSI</th>                     <td>    0.1385</td> <td>    0.257</td> <td>    0.539</td> <td> 0.590</td> <td>   -0.365</td> <td>    0.642</td>\n",
       "</tr>\n",
       "<tr>\n",
       "  <th>traitement_Medical</th>                  <td>   -0.1362</td> <td>    0.235</td> <td>   -0.579</td> <td> 0.563</td> <td>   -0.597</td> <td>    0.325</td>\n",
       "</tr>\n",
       "<tr>\n",
       "  <th>tranche_age_f_+ 40 ans</th>              <td>   -2.0539</td> <td>    0.874</td> <td>   -2.350</td> <td> 0.019</td> <td>   -3.767</td> <td>   -0.341</td>\n",
       "</tr>\n",
       "<tr>\n",
       "  <th>tranche_age_f_30 à 40 ans</th>           <td>   -0.1480</td> <td>    0.225</td> <td>   -0.658</td> <td> 0.511</td> <td>   -0.589</td> <td>    0.293</td>\n",
       "</tr>\n",
       "<tr>\n",
       "  <th>tranche_age_h_+ 50 ans</th>              <td>   -0.0287</td> <td>    0.941</td> <td>   -0.031</td> <td> 0.976</td> <td>   -1.873</td> <td>    1.815</td>\n",
       "</tr>\n",
       "<tr>\n",
       "  <th>tranche_age_h_30 à 40 ans</th>           <td>    0.1726</td> <td>    0.233</td> <td>    0.739</td> <td> 0.460</td> <td>   -0.285</td> <td>    0.630</td>\n",
       "</tr>\n",
       "<tr>\n",
       "  <th>tranche_age_h_40 à 50 ans</th>           <td>   -0.2656</td> <td>    0.494</td> <td>   -0.538</td> <td> 0.591</td> <td>   -1.234</td> <td>    0.703</td>\n",
       "</tr>\n",
       "<tr>\n",
       "  <th>tranche_bmi_h_Corpulence normale</th>    <td>   17.5662</td> <td> 6790.914</td> <td>    0.003</td> <td> 0.998</td> <td>-1.33e+04</td> <td> 1.33e+04</td>\n",
       "</tr>\n",
       "<tr>\n",
       "  <th>tranche_bmi_h_Maigreur</th>              <td>   19.3691</td> <td> 6790.914</td> <td>    0.003</td> <td> 0.998</td> <td>-1.33e+04</td> <td> 1.33e+04</td>\n",
       "</tr>\n",
       "<tr>\n",
       "  <th>tranche_bmi_h_Obesite</th>               <td>   16.8289</td> <td> 6790.914</td> <td>    0.002</td> <td> 0.998</td> <td>-1.33e+04</td> <td> 1.33e+04</td>\n",
       "</tr>\n",
       "<tr>\n",
       "  <th>tranche_bmi_h_Surpoid</th>               <td>   17.5502</td> <td> 6790.914</td> <td>    0.003</td> <td> 0.998</td> <td>-1.33e+04</td> <td> 1.33e+04</td>\n",
       "</tr>\n",
       "<tr>\n",
       "  <th>tranche_duree_infertilite_+ 2ans</th>    <td>   -1.1419</td> <td>    0.491</td> <td>   -2.325</td> <td> 0.020</td> <td>   -2.105</td> <td>   -0.179</td>\n",
       "</tr>\n",
       "<tr>\n",
       "  <th>tranche_duree_infertilite_1-2 ans</th>   <td>   -0.6888</td> <td>    0.462</td> <td>   -1.492</td> <td> 0.136</td> <td>   -1.594</td> <td>    0.216</td>\n",
       "</tr>\n",
       "<tr>\n",
       "  <th>tranche_duree_infertilite_6-12 mois</th> <td>   -0.7990</td> <td>    0.483</td> <td>   -1.656</td> <td> 0.098</td> <td>   -1.745</td> <td>    0.147</td>\n",
       "</tr>\n",
       "</table>"
      ],
      "text/plain": [
       "<class 'statsmodels.iolib.summary.Summary'>\n",
       "\"\"\"\n",
       "                           Logit Regression Results                           \n",
       "==============================================================================\n",
       "Dep. Variable:                 enfant   No. Observations:                 1131\n",
       "Model:                          Logit   Df Residuals:                     1082\n",
       "Method:                           MLE   Df Model:                           48\n",
       "Date:                Tue, 30 Jan 2018   Pseudo R-squ.:                  0.1162\n",
       "Time:                        14:44:26   Log-Likelihood:                -684.82\n",
       "converged:                      False   LL-Null:                       -774.88\n",
       "                                        LLR p-value:                 3.589e-17\n",
       "=======================================================================================================\n",
       "                                          coef    std err          z      P>|z|      [0.025      0.975]\n",
       "-------------------------------------------------------------------------------------------------------\n",
       "age_f                                  -0.0551      0.030     -1.850      0.064      -0.113       0.003\n",
       "age_h                                  -0.0194      0.029     -0.676      0.499      -0.076       0.037\n",
       "bh_f_anormal                            0.3290      0.321      1.026      0.305      -0.299       0.957\n",
       "bh_f_normal                             0.1998      0.223      0.897      0.370      -0.237       0.637\n",
       "bmi_h                                   0.0230      0.038      0.601      0.548      -0.052       0.098\n",
       "cryptorchidie                           0.1057      0.192      0.549      0.583      -0.272       0.483\n",
       "ct_f_anovulation                       -0.3199      0.392     -0.817      0.414      -1.087       0.447\n",
       "ct_f_dysovulation                      -0.0967      0.311     -0.311      0.756      -0.706       0.512\n",
       "ct_f_ovulation                         -0.3433      0.218     -1.577      0.115      -0.770       0.083\n",
       "diplome_f_Bac+                         -0.0423      0.184     -0.229      0.819      -0.404       0.319\n",
       "diplome_f_Bac-                          0.0575      0.198      0.290      0.772      -0.331       0.446\n",
       "diplome_h_Bac+                          0.5684      0.197      2.885      0.004       0.182       0.954\n",
       "diplome_h_Bac-                          0.4886      0.195      2.499      0.012       0.105       0.872\n",
       "duree_infertilite                      -0.0033      0.004     -0.773      0.440      -0.012       0.005\n",
       "fecondite_secondaire                    0.0535      0.153      0.350      0.726      -0.246       0.353\n",
       "isPathoH                              -14.8606   6790.914     -0.002      0.998   -1.33e+04    1.33e+04\n",
       "patho_f_autre                          -0.2559      0.543     -0.472      0.637      -1.320       0.808\n",
       "patho_f_endometriose                   -0.0831      0.552     -0.150      0.880      -1.165       0.999\n",
       "patho_f_hydrosalpinx                   -0.1684      1.512     -0.111      0.911      -3.132       2.795\n",
       "patho_f_non                            -0.0838      0.318     -0.263      0.792      -0.708       0.540\n",
       "patho_f_pb tubaire bilateral           -0.1100      0.600     -0.183      0.855      -1.285       1.066\n",
       "patho_f_pb tubaire unilateral          -0.4013      0.338     -1.189      0.234      -1.063       0.260\n",
       "patho_h_chimiotherapie                 -0.9537      0.722     -1.320      0.187      -2.370       0.462\n",
       "patho_h_diabete                        -1.0470      0.940     -1.114      0.265      -2.888       0.794\n",
       "patho_h_non                           -14.8159   6790.914     -0.002      0.998   -1.33e+04    1.33e+04\n",
       "patho_h_probleme neurologique         -11.4968    362.294     -0.032      0.975    -721.579     698.586\n",
       "patho_h_probleme respiratoire           0.4574      0.385      1.187      0.235      -0.298       1.212\n",
       "pb_F                                   -0.3394      0.461     -0.736      0.462      -1.243       0.564\n",
       "pb_H                                    0.1439      0.451      0.319      0.750      -0.741       1.029\n",
       "pb_H_et_F                              -0.0817      0.379     -0.216      0.829      -0.824       0.660\n",
       "spermo_azoo                            -0.7839      0.203     -3.862      0.000      -1.182      -0.386\n",
       "spermo_normal                           0.7571      0.341      2.220      0.026       0.089       1.426\n",
       "traitement_FIV                         -0.3229      0.308     -1.047      0.295      -0.927       0.281\n",
       "traitement_IAC                          0.5418      0.265      2.047      0.041       0.023       1.061\n",
       "traitement_IAD                          1.2028      0.380      3.169      0.002       0.459       1.947\n",
       "traitement_ICSI                         0.1385      0.257      0.539      0.590      -0.365       0.642\n",
       "traitement_Medical                     -0.1362      0.235     -0.579      0.563      -0.597       0.325\n",
       "tranche_age_f_+ 40 ans                 -2.0539      0.874     -2.350      0.019      -3.767      -0.341\n",
       "tranche_age_f_30 à 40 ans              -0.1480      0.225     -0.658      0.511      -0.589       0.293\n",
       "tranche_age_h_+ 50 ans                 -0.0287      0.941     -0.031      0.976      -1.873       1.815\n",
       "tranche_age_h_30 à 40 ans               0.1726      0.233      0.739      0.460      -0.285       0.630\n",
       "tranche_age_h_40 à 50 ans              -0.2656      0.494     -0.538      0.591      -1.234       0.703\n",
       "tranche_bmi_h_Corpulence normale       17.5662   6790.914      0.003      0.998   -1.33e+04    1.33e+04\n",
       "tranche_bmi_h_Maigreur                 19.3691   6790.914      0.003      0.998   -1.33e+04    1.33e+04\n",
       "tranche_bmi_h_Obesite                  16.8289   6790.914      0.002      0.998   -1.33e+04    1.33e+04\n",
       "tranche_bmi_h_Surpoid                  17.5502   6790.914      0.003      0.998   -1.33e+04    1.33e+04\n",
       "tranche_duree_infertilite_+ 2ans       -1.1419      0.491     -2.325      0.020      -2.105      -0.179\n",
       "tranche_duree_infertilite_1-2 ans      -0.6888      0.462     -1.492      0.136      -1.594       0.216\n",
       "tranche_duree_infertilite_6-12 mois    -0.7990      0.483     -1.656      0.098      -1.745       0.147\n",
       "=======================================================================================================\n",
       "\"\"\""
      ]
     },
     "execution_count": 382,
     "metadata": {},
     "output_type": "execute_result"
    }
   ],
   "source": [
    "ok.summary()"
   ]
  },
  {
   "cell_type": "code",
   "execution_count": 266,
   "metadata": {},
   "outputs": [],
   "source": [
    "from sklearn.linear_model import LogisticRegression\n",
    "clf = LogisticRegression()\n",
    "clf = clf.fit(dataLogit, data.enfant)"
   ]
  },
  {
   "cell_type": "code",
   "execution_count": 263,
   "metadata": {},
   "outputs": [
    {
     "data": {
      "text/plain": [
       "0.96198054818744472"
      ]
     },
     "execution_count": 263,
     "metadata": {},
     "output_type": "execute_result"
    }
   ],
   "source": [
    "clf.score(dataLogit,data.enfant)"
   ]
  },
  {
   "cell_type": "code",
   "execution_count": null,
   "metadata": {},
   "outputs": [],
   "source": [
    "data[data.patho_f == 'hydrosalpinx']"
   ]
  },
  {
   "cell_type": "code",
   "execution_count": null,
   "metadata": {
    "collapsed": true
   },
   "outputs": [],
   "source": []
  },
  {
   "cell_type": "code",
   "execution_count": null,
   "metadata": {
    "collapsed": true
   },
   "outputs": [],
   "source": []
  },
  {
   "cell_type": "code",
   "execution_count": null,
   "metadata": {
    "collapsed": true
   },
   "outputs": [],
   "source": []
  },
  {
   "cell_type": "code",
   "execution_count": null,
   "metadata": {
    "collapsed": true
   },
   "outputs": [],
   "source": []
  },
  {
   "cell_type": "code",
   "execution_count": null,
   "metadata": {
    "collapsed": true
   },
   "outputs": [],
   "source": []
  },
  {
   "cell_type": "code",
   "execution_count": null,
   "metadata": {
    "collapsed": true
   },
   "outputs": [],
   "source": []
  },
  {
   "cell_type": "code",
   "execution_count": null,
   "metadata": {
    "collapsed": true
   },
   "outputs": [],
   "source": []
  },
  {
   "cell_type": "code",
   "execution_count": null,
   "metadata": {
    "collapsed": true
   },
   "outputs": [],
   "source": []
  },
  {
   "cell_type": "code",
   "execution_count": null,
   "metadata": {
    "collapsed": true
   },
   "outputs": [],
   "source": []
  },
  {
   "cell_type": "code",
   "execution_count": null,
   "metadata": {
    "collapsed": true
   },
   "outputs": [],
   "source": []
  },
  {
   "cell_type": "code",
   "execution_count": null,
   "metadata": {
    "collapsed": true
   },
   "outputs": [],
   "source": []
  },
  {
   "cell_type": "code",
   "execution_count": null,
   "metadata": {
    "collapsed": true
   },
   "outputs": [],
   "source": []
  }
 ],
 "metadata": {
  "kernelspec": {
   "display_name": "Python 3",
   "language": "python",
   "name": "python3"
  },
  "language_info": {
   "codemirror_mode": {
    "name": "ipython",
    "version": 3
   },
   "file_extension": ".py",
   "mimetype": "text/x-python",
   "name": "python",
   "nbconvert_exporter": "python",
   "pygments_lexer": "ipython3",
   "version": "3.6.2"
  }
 },
 "nbformat": 4,
 "nbformat_minor": 2
}
