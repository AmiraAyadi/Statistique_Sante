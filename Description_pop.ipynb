{
 "cells": [
  {
   "cell_type": "code",
   "execution_count": 96,
   "metadata": {
    "collapsed": true
   },
   "outputs": [],
   "source": [
    "import pandas as pd\n",
    "import matplotlib.pyplot as plt\n",
    "import seaborn as sns\n",
    "import numpy as np\n",
    "%matplotlib inline\n",
    "\n",
    "data = pd.read_csv('couples.csv', sep = ',',na_values = '.', decimal = '.', encoding =  'utf-8')\n"
   ]
  },
  {
   "cell_type": "markdown",
   "metadata": {},
   "source": [
    "A FAIRE: \n",
    "- variable c'est l'homme qui a le soucis, c'est la femme qui a le soucis, les deux ont un soucis\n",
    "- Durée entre la première consultation et la date de conception pour ceux ayant eu un enfant\n",
    "- Durée entre la première consultation et la date des dernières nouvelles (01/06/2009)\n",
    "- Encadrement de l'âge\n",
    "- Encadrement de l'indice de masse corporelle\n",
    "- Encadrement de la durée d'infertilité avant consultation"
   ]
  },
  {
   "cell_type": "code",
   "execution_count": 97,
   "metadata": {},
   "outputs": [
    {
     "data": {
      "text/html": [
       "<div>\n",
       "<style>\n",
       "    .dataframe thead tr:only-child th {\n",
       "        text-align: right;\n",
       "    }\n",
       "\n",
       "    .dataframe thead th {\n",
       "        text-align: left;\n",
       "    }\n",
       "\n",
       "    .dataframe tbody tr th {\n",
       "        vertical-align: top;\n",
       "    }\n",
       "</style>\n",
       "<table border=\"1\" class=\"dataframe\">\n",
       "  <thead>\n",
       "    <tr style=\"text-align: right;\">\n",
       "      <th></th>\n",
       "      <th>id</th>\n",
       "      <th>enfant</th>\n",
       "      <th>dconsultation</th>\n",
       "      <th>dconception</th>\n",
       "      <th>ddn</th>\n",
       "      <th>age_h</th>\n",
       "      <th>diplome_h</th>\n",
       "      <th>bmi_h</th>\n",
       "      <th>patho_h</th>\n",
       "      <th>cryptorchidie</th>\n",
       "      <th>spermo</th>\n",
       "      <th>age_f</th>\n",
       "      <th>diplome_f</th>\n",
       "      <th>bh_f</th>\n",
       "      <th>ct_f</th>\n",
       "      <th>patho_f</th>\n",
       "      <th>fecondite</th>\n",
       "      <th>duree_infertilite</th>\n",
       "      <th>traitement</th>\n",
       "    </tr>\n",
       "  </thead>\n",
       "  <tbody>\n",
       "    <tr>\n",
       "      <th>0</th>\n",
       "      <td>2707</td>\n",
       "      <td>1</td>\n",
       "      <td>18/04/2000</td>\n",
       "      <td>22/01/2001</td>\n",
       "      <td>NaN</td>\n",
       "      <td>33</td>\n",
       "      <td>Bac+</td>\n",
       "      <td>27.166448</td>\n",
       "      <td>non</td>\n",
       "      <td>Non</td>\n",
       "      <td>normal</td>\n",
       "      <td>34.0</td>\n",
       "      <td>Bac+</td>\n",
       "      <td>normal</td>\n",
       "      <td>ovulation</td>\n",
       "      <td>non</td>\n",
       "      <td>primaire</td>\n",
       "      <td>38.0</td>\n",
       "      <td>IAC</td>\n",
       "    </tr>\n",
       "    <tr>\n",
       "      <th>1</th>\n",
       "      <td>2955</td>\n",
       "      <td>1</td>\n",
       "      <td>11/03/2003</td>\n",
       "      <td>14/03/2007</td>\n",
       "      <td>NaN</td>\n",
       "      <td>42</td>\n",
       "      <td>Bac-</td>\n",
       "      <td>22.204082</td>\n",
       "      <td>non</td>\n",
       "      <td>Non</td>\n",
       "      <td>anormal</td>\n",
       "      <td>30.0</td>\n",
       "      <td>Bac</td>\n",
       "      <td>normal</td>\n",
       "      <td>ovulation</td>\n",
       "      <td>NaN</td>\n",
       "      <td>primaire</td>\n",
       "      <td>16.0</td>\n",
       "      <td>ICSI</td>\n",
       "    </tr>\n",
       "    <tr>\n",
       "      <th>2</th>\n",
       "      <td>3801</td>\n",
       "      <td>1</td>\n",
       "      <td>24/08/2004</td>\n",
       "      <td>05/10/2005</td>\n",
       "      <td>NaN</td>\n",
       "      <td>45</td>\n",
       "      <td>Bac+</td>\n",
       "      <td>26.794938</td>\n",
       "      <td>non</td>\n",
       "      <td>Non</td>\n",
       "      <td>anormal</td>\n",
       "      <td>29.0</td>\n",
       "      <td>Bac+</td>\n",
       "      <td>NaN</td>\n",
       "      <td>NaN</td>\n",
       "      <td>NaN</td>\n",
       "      <td>secondaire</td>\n",
       "      <td>10.0</td>\n",
       "      <td>IAC</td>\n",
       "    </tr>\n",
       "    <tr>\n",
       "      <th>3</th>\n",
       "      <td>5816</td>\n",
       "      <td>0</td>\n",
       "      <td>17/04/2001</td>\n",
       "      <td>NaN</td>\n",
       "      <td>01/06/2009</td>\n",
       "      <td>36</td>\n",
       "      <td>Bac+</td>\n",
       "      <td>18.612245</td>\n",
       "      <td>non</td>\n",
       "      <td>Non</td>\n",
       "      <td>anormal</td>\n",
       "      <td>38.0</td>\n",
       "      <td>Bac+</td>\n",
       "      <td>normal</td>\n",
       "      <td>ovulation</td>\n",
       "      <td>pb tubaire unilateral</td>\n",
       "      <td>secondaire</td>\n",
       "      <td>60.0</td>\n",
       "      <td>FIV</td>\n",
       "    </tr>\n",
       "    <tr>\n",
       "      <th>4</th>\n",
       "      <td>12933</td>\n",
       "      <td>0</td>\n",
       "      <td>18/08/2004</td>\n",
       "      <td>NaN</td>\n",
       "      <td>01/06/2009</td>\n",
       "      <td>32</td>\n",
       "      <td>Bac</td>\n",
       "      <td>24.158818</td>\n",
       "      <td>non</td>\n",
       "      <td>Non</td>\n",
       "      <td>azoo</td>\n",
       "      <td>30.0</td>\n",
       "      <td>Bac+</td>\n",
       "      <td>NaN</td>\n",
       "      <td>NaN</td>\n",
       "      <td>NaN</td>\n",
       "      <td>secondaire</td>\n",
       "      <td>6.0</td>\n",
       "      <td>Medical</td>\n",
       "    </tr>\n",
       "  </tbody>\n",
       "</table>\n",
       "</div>"
      ],
      "text/plain": [
       "      id  enfant dconsultation dconception         ddn  age_h diplome_h  \\\n",
       "0   2707       1    18/04/2000  22/01/2001         NaN     33      Bac+   \n",
       "1   2955       1    11/03/2003  14/03/2007         NaN     42      Bac-   \n",
       "2   3801       1    24/08/2004  05/10/2005         NaN     45      Bac+   \n",
       "3   5816       0    17/04/2001         NaN  01/06/2009     36      Bac+   \n",
       "4  12933       0    18/08/2004         NaN  01/06/2009     32       Bac   \n",
       "\n",
       "       bmi_h patho_h cryptorchidie   spermo  age_f diplome_f    bh_f  \\\n",
       "0  27.166448     non           Non   normal   34.0      Bac+  normal   \n",
       "1  22.204082     non           Non  anormal   30.0       Bac  normal   \n",
       "2  26.794938     non           Non  anormal   29.0      Bac+     NaN   \n",
       "3  18.612245     non           Non  anormal   38.0      Bac+  normal   \n",
       "4  24.158818     non           Non     azoo   30.0      Bac+     NaN   \n",
       "\n",
       "        ct_f                patho_f   fecondite  duree_infertilite traitement  \n",
       "0  ovulation                    non    primaire               38.0        IAC  \n",
       "1  ovulation                    NaN    primaire               16.0       ICSI  \n",
       "2        NaN                    NaN  secondaire               10.0        IAC  \n",
       "3  ovulation  pb tubaire unilateral  secondaire               60.0        FIV  \n",
       "4        NaN                    NaN  secondaire                6.0    Medical  "
      ]
     },
     "execution_count": 97,
     "metadata": {},
     "output_type": "execute_result"
    }
   ],
   "source": [
    "data.head()"
   ]
  },
  {
   "cell_type": "markdown",
   "metadata": {},
   "source": [
    "On va séparer les données numériques des données catégorielles\n"
   ]
  },
  {
   "cell_type": "code",
   "execution_count": 98,
   "metadata": {},
   "outputs": [
    {
     "data": {
      "text/plain": [
       "id                     int64\n",
       "enfant                 int64\n",
       "dconsultation         object\n",
       "dconception           object\n",
       "ddn                   object\n",
       "age_h                  int64\n",
       "diplome_h             object\n",
       "bmi_h                float64\n",
       "patho_h               object\n",
       "cryptorchidie         object\n",
       "spermo                object\n",
       "age_f                float64\n",
       "diplome_f             object\n",
       "bh_f                  object\n",
       "ct_f                  object\n",
       "patho_f               object\n",
       "fecondite             object\n",
       "duree_infertilite    float64\n",
       "traitement            object\n",
       "dtype: object"
      ]
     },
     "execution_count": 98,
     "metadata": {},
     "output_type": "execute_result"
    }
   ],
   "source": [
    "data.dtypes\n"
   ]
  },
  {
   "cell_type": "code",
   "execution_count": 99,
   "metadata": {},
   "outputs": [
    {
     "data": {
      "text/plain": [
       "id                     0\n",
       "enfant                 0\n",
       "dconsultation          0\n",
       "dconception          494\n",
       "ddn                  637\n",
       "age_h                  0\n",
       "diplome_h              3\n",
       "bmi_h                 22\n",
       "patho_h                0\n",
       "cryptorchidie          0\n",
       "spermo                 0\n",
       "age_f                  3\n",
       "diplome_f             22\n",
       "bh_f                 359\n",
       "ct_f                 355\n",
       "patho_f              368\n",
       "fecondite              0\n",
       "duree_infertilite      0\n",
       "traitement             0\n",
       "dtype: int64"
      ]
     },
     "execution_count": 99,
     "metadata": {},
     "output_type": "execute_result"
    }
   ],
   "source": [
    "data.isnull().sum()"
   ]
  },
  {
   "cell_type": "markdown",
   "metadata": {},
   "source": [
    "Pour dconsultation et ddn c'est normal car un couple à une dconception ssi il a eu un enfant et une ddn sinon\n",
    "Pour diplome_h, bmi_h, age_f, diplome_f comme il n'y a que peu de valeur manquante, on peut les remplacer par la catégorie la plus commune.\n",
    "\n",
    "Pour bh_f, ct_f et patho_f, on va décider dans un premier temps de créer une nouvelle catégorie attribué aux valeur manquantes, comme cela, si une logique existe derrière ces na, le modèle en tiendra compte\n",
    "\n",
    "Pourquoi des valeurs sont na? Principalement sur la femme\n",
    "\n",
    "Hypothèse: \n",
    "- Le traitement doit nous donner un indice\n",
    "- La présence presque automatique d'un problème chez l'homme lorsque la femme a des NA nous permet de supposer que le variable a été laissé vide, c'est à dire que tout est normal"
   ]
  },
  {
   "cell_type": "code",
   "execution_count": 100,
   "metadata": {},
   "outputs": [],
   "source": [
    "###\n",
    "#  Remplacer par la catégorie la plus fréquente dans le cas d'une catégorie et la moyenne sinon\n",
    "###\n",
    "\n",
    "#diplome_h\n",
    "data.diplome_h = data.diplome_h.fillna(data['diplome_h'].value_counts().index[0])\n",
    "\n",
    "#bmi_h\n",
    "data.bmi_h = data.bmi_h.fillna(data['bmi_h'].mean())\n",
    "\n",
    "#age_f\n",
    "data.age_f = data.age_f.fillna(data['age_f'].mean())\n",
    "\n",
    "#diplome_f\n",
    "data.diplome_f = data.diplome_f.fillna(data['diplome_f'].value_counts().index[0])"
   ]
  },
  {
   "cell_type": "code",
   "execution_count": 101,
   "metadata": {},
   "outputs": [],
   "source": [
    "###\n",
    "#  Remplacer par un niveau NA\n",
    "###\n",
    "\n",
    "#bh_f\n",
    "data.bh_f= data.bh_f.fillna('NA')\n",
    "\n",
    "#ct_f\n",
    "data.ct_f = data.ct_f.fillna('NA')\n",
    "\n",
    "#patho_f\n",
    "data.patho_f = data.patho_f.fillna('NA')"
   ]
  },
  {
   "cell_type": "code",
   "execution_count": 102,
   "metadata": {},
   "outputs": [
    {
     "data": {
      "text/plain": [
       "Bac+    495\n",
       "Bac-    451\n",
       "Bac     185\n",
       "Name: diplome_h, dtype: int64"
      ]
     },
     "execution_count": 102,
     "metadata": {},
     "output_type": "execute_result"
    }
   ],
   "source": [
    "data['diplome_h'].value_counts()"
   ]
  },
  {
   "cell_type": "code",
   "execution_count": 103,
   "metadata": {},
   "outputs": [
    {
     "data": {
      "text/plain": [
       "['anormal', 'normal', 'NA']"
      ]
     },
     "execution_count": 103,
     "metadata": {},
     "output_type": "execute_result"
    }
   ],
   "source": [
    "list(set(data.bh_f))"
   ]
  },
  {
   "cell_type": "markdown",
   "metadata": {},
   "source": [
    "## Recodage des Données"
   ]
  },
  {
   "cell_type": "markdown",
   "metadata": {},
   "source": [
    "### Facteur avec que deux catégories en binaire"
   ]
  },
  {
   "cell_type": "code",
   "execution_count": 104,
   "metadata": {},
   "outputs": [],
   "source": [
    "dic = {\n",
    "    'Oui' : 1,\n",
    "    'Non' : 0\n",
    "}\n",
    "data.cryptorchidie = data.cryptorchidie.map(dic)\n"
   ]
  },
  {
   "cell_type": "markdown",
   "metadata": {},
   "source": [
    "### Age en catégorie"
   ]
  },
  {
   "cell_type": "code",
   "execution_count": 105,
   "metadata": {
    "collapsed": true
   },
   "outputs": [],
   "source": [
    "data['tranche_age_h'] = pd.cut(data.age_h, bins = [data.age_h.min(),30,40,50,data.age_h.max()], labels = ['- 30 ans','30 à 40 ans', \\\n",
    "                                                                                       '40 à 50 ans','+ 50 ans'])\n",
    "data['tranche_age_f'] = pd.cut(data.age_f, bins = [16,30,40,data.age_f.max()], labels = ['- 30 ans','30 à 40 ans', \\\n",
    "                                                                                       '+ 40 ans'])"
   ]
  },
  {
   "cell_type": "markdown",
   "metadata": {},
   "source": [
    "### Indice de masse corporelle en interprétation (source: Wikipedia)"
   ]
  },
  {
   "cell_type": "code",
   "execution_count": 123,
   "metadata": {
    "collapsed": true
   },
   "outputs": [],
   "source": [
    "#Commentaire: ne pas mettre -1 crée un problème, le minimum ne rentre pas dans une tranche et devient un NA\n",
    "data['tranche_bmi_h'] = pd.cut(data.bmi_h, \\\n",
    "                              bins = [data.bmi_h.min() - 1 ,16.5,18.5,25,30,data.bmi_h.max() +1],\\\n",
    "                              labels = ['Denutrition ou anorexie','Maigreur', 'Corpulence normale',\\\n",
    "                                       'Surpoid', 'Obesite'])"
   ]
  },
  {
   "cell_type": "code",
   "execution_count": 124,
   "metadata": {},
   "outputs": [
    {
     "data": {
      "text/plain": [
       "False"
      ]
     },
     "execution_count": 124,
     "metadata": {},
     "output_type": "execute_result"
    }
   ],
   "source": [
    "data.tranche_bmi_h.isnull().any()"
   ]
  },
  {
   "cell_type": "markdown",
   "metadata": {},
   "source": [
    "### Encadrement de la durée d'infertilité avant la première consultation\n",
    "\n",
    "Regardons d'abord la répartition avant de créer des catégories"
   ]
  },
  {
   "cell_type": "code",
   "execution_count": 125,
   "metadata": {},
   "outputs": [
    {
     "data": {
      "text/plain": [
       "0.25    18.0\n",
       "0.50    24.0\n",
       "0.75    36.0\n",
       "Name: duree_infertilite, dtype: float64"
      ]
     },
     "execution_count": 125,
     "metadata": {},
     "output_type": "execute_result"
    }
   ],
   "source": [
    "\n",
    "data.duree_infertilite.quantile([0.25,0.5,0.75])"
   ]
  },
  {
   "cell_type": "code",
   "execution_count": 126,
   "metadata": {
    "collapsed": true
   },
   "outputs": [],
   "source": [
    "data['tranche_duree_infertilite'] = pd.cut(data.duree_infertilite, \\\n",
    "                              bins = [data.duree_infertilite.min(),6,12,24,data.duree_infertilite.max()],\\\n",
    "                              labels = ['- 6 mois','6-12 mois', '1-2 ans','+ 2ans'])"
   ]
  },
  {
   "cell_type": "code",
   "execution_count": 127,
   "metadata": {},
   "outputs": [
    {
     "data": {
      "text/html": [
       "<div>\n",
       "<style>\n",
       "    .dataframe thead tr:only-child th {\n",
       "        text-align: right;\n",
       "    }\n",
       "\n",
       "    .dataframe thead th {\n",
       "        text-align: left;\n",
       "    }\n",
       "\n",
       "    .dataframe tbody tr th {\n",
       "        vertical-align: top;\n",
       "    }\n",
       "</style>\n",
       "<table border=\"1\" class=\"dataframe\">\n",
       "  <thead>\n",
       "    <tr style=\"text-align: right;\">\n",
       "      <th></th>\n",
       "      <th>id</th>\n",
       "      <th>enfant</th>\n",
       "      <th>dconsultation</th>\n",
       "      <th>dconception</th>\n",
       "      <th>ddn</th>\n",
       "      <th>age_h</th>\n",
       "      <th>diplome_h</th>\n",
       "      <th>bmi_h</th>\n",
       "      <th>patho_h</th>\n",
       "      <th>cryptorchidie</th>\n",
       "      <th>...</th>\n",
       "      <th>bh_f</th>\n",
       "      <th>ct_f</th>\n",
       "      <th>patho_f</th>\n",
       "      <th>fecondite</th>\n",
       "      <th>duree_infertilite</th>\n",
       "      <th>traitement</th>\n",
       "      <th>tranche_age_h</th>\n",
       "      <th>tranche_age_f</th>\n",
       "      <th>tranche_bmi_h</th>\n",
       "      <th>tranche_duree_infertilite</th>\n",
       "    </tr>\n",
       "  </thead>\n",
       "  <tbody>\n",
       "    <tr>\n",
       "      <th>0</th>\n",
       "      <td>2707</td>\n",
       "      <td>1</td>\n",
       "      <td>18/04/2000</td>\n",
       "      <td>22/01/2001</td>\n",
       "      <td>NaN</td>\n",
       "      <td>33</td>\n",
       "      <td>Bac+</td>\n",
       "      <td>27.166448</td>\n",
       "      <td>non</td>\n",
       "      <td>0</td>\n",
       "      <td>...</td>\n",
       "      <td>normal</td>\n",
       "      <td>ovulation</td>\n",
       "      <td>non</td>\n",
       "      <td>primaire</td>\n",
       "      <td>38.0</td>\n",
       "      <td>IAC</td>\n",
       "      <td>30 à 40 ans</td>\n",
       "      <td>30 à 40 ans</td>\n",
       "      <td>Surpoid</td>\n",
       "      <td>+ 2ans</td>\n",
       "    </tr>\n",
       "    <tr>\n",
       "      <th>1</th>\n",
       "      <td>2955</td>\n",
       "      <td>1</td>\n",
       "      <td>11/03/2003</td>\n",
       "      <td>14/03/2007</td>\n",
       "      <td>NaN</td>\n",
       "      <td>42</td>\n",
       "      <td>Bac-</td>\n",
       "      <td>22.204082</td>\n",
       "      <td>non</td>\n",
       "      <td>0</td>\n",
       "      <td>...</td>\n",
       "      <td>normal</td>\n",
       "      <td>ovulation</td>\n",
       "      <td>NA</td>\n",
       "      <td>primaire</td>\n",
       "      <td>16.0</td>\n",
       "      <td>ICSI</td>\n",
       "      <td>40 à 50 ans</td>\n",
       "      <td>- 30 ans</td>\n",
       "      <td>Corpulence normale</td>\n",
       "      <td>1-2 ans</td>\n",
       "    </tr>\n",
       "    <tr>\n",
       "      <th>2</th>\n",
       "      <td>3801</td>\n",
       "      <td>1</td>\n",
       "      <td>24/08/2004</td>\n",
       "      <td>05/10/2005</td>\n",
       "      <td>NaN</td>\n",
       "      <td>45</td>\n",
       "      <td>Bac+</td>\n",
       "      <td>26.794938</td>\n",
       "      <td>non</td>\n",
       "      <td>0</td>\n",
       "      <td>...</td>\n",
       "      <td>NA</td>\n",
       "      <td>NA</td>\n",
       "      <td>NA</td>\n",
       "      <td>secondaire</td>\n",
       "      <td>10.0</td>\n",
       "      <td>IAC</td>\n",
       "      <td>40 à 50 ans</td>\n",
       "      <td>- 30 ans</td>\n",
       "      <td>Surpoid</td>\n",
       "      <td>6-12 mois</td>\n",
       "    </tr>\n",
       "    <tr>\n",
       "      <th>3</th>\n",
       "      <td>5816</td>\n",
       "      <td>0</td>\n",
       "      <td>17/04/2001</td>\n",
       "      <td>NaN</td>\n",
       "      <td>01/06/2009</td>\n",
       "      <td>36</td>\n",
       "      <td>Bac+</td>\n",
       "      <td>18.612245</td>\n",
       "      <td>non</td>\n",
       "      <td>0</td>\n",
       "      <td>...</td>\n",
       "      <td>normal</td>\n",
       "      <td>ovulation</td>\n",
       "      <td>pb tubaire unilateral</td>\n",
       "      <td>secondaire</td>\n",
       "      <td>60.0</td>\n",
       "      <td>FIV</td>\n",
       "      <td>30 à 40 ans</td>\n",
       "      <td>30 à 40 ans</td>\n",
       "      <td>Corpulence normale</td>\n",
       "      <td>+ 2ans</td>\n",
       "    </tr>\n",
       "    <tr>\n",
       "      <th>4</th>\n",
       "      <td>12933</td>\n",
       "      <td>0</td>\n",
       "      <td>18/08/2004</td>\n",
       "      <td>NaN</td>\n",
       "      <td>01/06/2009</td>\n",
       "      <td>32</td>\n",
       "      <td>Bac</td>\n",
       "      <td>24.158818</td>\n",
       "      <td>non</td>\n",
       "      <td>0</td>\n",
       "      <td>...</td>\n",
       "      <td>NA</td>\n",
       "      <td>NA</td>\n",
       "      <td>NA</td>\n",
       "      <td>secondaire</td>\n",
       "      <td>6.0</td>\n",
       "      <td>Medical</td>\n",
       "      <td>30 à 40 ans</td>\n",
       "      <td>- 30 ans</td>\n",
       "      <td>Corpulence normale</td>\n",
       "      <td>- 6 mois</td>\n",
       "    </tr>\n",
       "  </tbody>\n",
       "</table>\n",
       "<p>5 rows × 23 columns</p>\n",
       "</div>"
      ],
      "text/plain": [
       "      id  enfant dconsultation dconception         ddn  age_h diplome_h  \\\n",
       "0   2707       1    18/04/2000  22/01/2001         NaN     33      Bac+   \n",
       "1   2955       1    11/03/2003  14/03/2007         NaN     42      Bac-   \n",
       "2   3801       1    24/08/2004  05/10/2005         NaN     45      Bac+   \n",
       "3   5816       0    17/04/2001         NaN  01/06/2009     36      Bac+   \n",
       "4  12933       0    18/08/2004         NaN  01/06/2009     32       Bac   \n",
       "\n",
       "       bmi_h patho_h  cryptorchidie            ...               bh_f  \\\n",
       "0  27.166448     non              0            ...             normal   \n",
       "1  22.204082     non              0            ...             normal   \n",
       "2  26.794938     non              0            ...                 NA   \n",
       "3  18.612245     non              0            ...             normal   \n",
       "4  24.158818     non              0            ...                 NA   \n",
       "\n",
       "        ct_f                patho_f   fecondite duree_infertilite traitement  \\\n",
       "0  ovulation                    non    primaire              38.0        IAC   \n",
       "1  ovulation                     NA    primaire              16.0       ICSI   \n",
       "2         NA                     NA  secondaire              10.0        IAC   \n",
       "3  ovulation  pb tubaire unilateral  secondaire              60.0        FIV   \n",
       "4         NA                     NA  secondaire               6.0    Medical   \n",
       "\n",
       "  tranche_age_h  tranche_age_f       tranche_bmi_h tranche_duree_infertilite  \n",
       "0   30 à 40 ans    30 à 40 ans             Surpoid                    + 2ans  \n",
       "1   40 à 50 ans       - 30 ans  Corpulence normale                   1-2 ans  \n",
       "2   40 à 50 ans       - 30 ans             Surpoid                 6-12 mois  \n",
       "3   30 à 40 ans    30 à 40 ans  Corpulence normale                    + 2ans  \n",
       "4   30 à 40 ans       - 30 ans  Corpulence normale                  - 6 mois  \n",
       "\n",
       "[5 rows x 23 columns]"
      ]
     },
     "execution_count": 127,
     "metadata": {},
     "output_type": "execute_result"
    }
   ],
   "source": [
    "data.head()"
   ]
  },
  {
   "cell_type": "markdown",
   "metadata": {},
   "source": [
    "### Gestion des dates / Durée entre la première consultation et la date de conception pour ceux ayant eu un enfant"
   ]
  },
  {
   "cell_type": "code",
   "execution_count": 128,
   "metadata": {
    "collapsed": true
   },
   "outputs": [],
   "source": [
    "data.dconsultation = pd.to_datetime(data.dconsultation)\n",
    "data.dconception = pd.to_datetime(data.dconception)\n",
    "data.ddn = pd.to_datetime(data.ddn)"
   ]
  },
  {
   "cell_type": "markdown",
   "metadata": {},
   "source": [
    "Si nous voulons étudier, ou plutot prédire si les individus ont eu des enfants après la ddn (dans le cas ou la première consultation à eu lieu peu avant), il nous faut connaitre les durée entre traitement et consultation"
   ]
  },
  {
   "cell_type": "code",
   "execution_count": 129,
   "metadata": {
    "collapsed": true
   },
   "outputs": [],
   "source": [
    "data['delta_consult_concep'] = (data.dconception - data.dconsultation)/np.timedelta64(1, 'M')\n",
    "data['delta_consult_ddn'] = (data.ddn - data.dconsultation)/np.timedelta64(1, 'M')\n",
    "data['duree_totale_du_programme'] = [i if not np.isnan(i) else j for i,j in zip(data['delta_consult_concep'],data['delta_consult_ddn'])]"
   ]
  },
  {
   "cell_type": "code",
   "execution_count": null,
   "metadata": {
    "collapsed": true
   },
   "outputs": [],
   "source": []
  },
  {
   "cell_type": "code",
   "execution_count": 130,
   "metadata": {},
   "outputs": [
    {
     "data": {
      "text/plain": [
       "-0.59138791350951769"
      ]
     },
     "execution_count": 130,
     "metadata": {},
     "output_type": "execute_result"
    }
   ],
   "source": [
    "#Certaine date de conception sont antérieures à la date de la conultation. Il s'agit de données abérrantes, \n",
    "#il faudra les supprimer\n",
    "data.duree_totale_du_programme[32]"
   ]
  },
  {
   "cell_type": "code",
   "execution_count": null,
   "metadata": {},
   "outputs": [],
   "source": []
  },
  {
   "cell_type": "markdown",
   "metadata": {},
   "source": [
    "### Recodage pathologie"
   ]
  },
  {
   "cell_type": "code",
   "execution_count": 131,
   "metadata": {
    "collapsed": true
   },
   "outputs": [],
   "source": [
    "dico = {'non': 'non',\n",
    " 'chimiotherapie': 'chimiotherapie',\n",
    " 'neurologique' : 'probleme neurologique',\n",
    " 'hodgkin , chimiotherapie , radiotherapie': 'chimiotherapie',\n",
    " 'sinusites chroniques' : 'probleme respiratoire',\n",
    " 'sarcome , chimiotherapie': 'chimiotherapie',\n",
    " 'cancer testis , chimiotherapie' : 'chimiotherapie',\n",
    " 'pathologies respiratoire chroniques': 'probleme respiratoire',\n",
    " 'sinusites chroniques , pathologies respiratoire chroniques': 'probleme respiratoire',\n",
    " 'chimiotherapie , radiotherapie' : 'chimiotherapie',\n",
    " 'autre' : 'autre',\n",
    " 'diabete' : 'diabete'}\n",
    "data.patho_h = data.patho_h.map(dico)\n",
    "\n"
   ]
  },
  {
   "cell_type": "code",
   "execution_count": 132,
   "metadata": {
    "collapsed": true
   },
   "outputs": [],
   "source": [
    "dicoIsPathoH = {elem:0 if elem == 'non' else 1 for elem in list(set(data.patho_h))}\n",
    "\n",
    "catPathoF = list(set(data.patho_f))\n",
    "catPathoF = [x for x in catPathoF if str(x) != 'nan']\n",
    "\n",
    "\n",
    "dicoIsPathoF = {elem:0 if elem == 'non' else 1 for elem in catPathoF}\n",
    "\n",
    "data['isPathoH'] = data.patho_h.map(dicoIsPathoH)\n",
    "data['isPathoF'] = data.patho_h.map(dicoIsPathoF)\n",
    "\n",
    "\n"
   ]
  },
  {
   "cell_type": "code",
   "execution_count": 133,
   "metadata": {},
   "outputs": [
    {
     "data": {
      "text/plain": [
       "['azoo', 'anormal', 'normal']"
      ]
     },
     "execution_count": 133,
     "metadata": {},
     "output_type": "execute_result"
    }
   ],
   "source": [
    "list(set(data.spermo))"
   ]
  },
  {
   "cell_type": "markdown",
   "metadata": {},
   "source": [
    "Présence d'un problème chez l'homme et chez la femme"
   ]
  },
  {
   "cell_type": "code",
   "execution_count": 140,
   "metadata": {},
   "outputs": [],
   "source": [
    "# L'homme a t'il un problème de santé impactant sa fécondité? Idem pour la femme\n",
    "\n",
    "pbFemme = [1 if (pat == 1) | (ct == 'dysovulation') | (ct == 'anovulation') | (bh=='anormal') \\\n",
    "           else 0 for (ct,pat,bh) in zip(data.ct_f, data.isPathoF, data.bh_f)]\n",
    "data['pb_F'] = pbFemme\n",
    "\n",
    "pbHomme = [1 if (pat == 1) | (cr == 1) | (sp == 'azoo') | (sp=='anormal') \\\n",
    "           else 0 for (cr,pat,sp) in zip(data.cryptorchidie, data.isPathoH, data.spermo)]\n",
    "data['pb_H'] = pbHomme\n",
    "\n",
    "data['pb_H_et_F'] = data['pb_F'] * data['pb_H']"
   ]
  },
  {
   "cell_type": "code",
   "execution_count": 144,
   "metadata": {},
   "outputs": [
    {
     "data": {
      "text/plain": [
       "0.32360742705570295"
      ]
     },
     "execution_count": 144,
     "metadata": {},
     "output_type": "execute_result"
    }
   ],
   "source": [
    "data.pb_H_et_F.mean()"
   ]
  },
  {
   "cell_type": "code",
   "execution_count": 135,
   "metadata": {},
   "outputs": [
    {
     "name": "stdout",
     "output_type": "stream",
     "text": [
      "Le jeu de donnée est constitué de 1131 enregistrements comportant 30 variables numériques et 13 variables catégorielles.\n"
     ]
    }
   ],
   "source": [
    "categorical_features = data.dtypes.index[(data.dtypes == 'object') | (data.dtypes == 'category')] \n",
    "numerical_features = data.dtypes.index[data.dtypes != 'object']\n",
    "numerical_features = [f for f in numerical_features if f not in ['id','enfant'] ] #Remove the target and the id\n",
    "target = data.enfant\n",
    "numerical_data = data[numerical_features]\n",
    "categorical_data = data[categorical_features]\n",
    "print('Le jeu de donnée est constitué de ' + str(data.shape[0]) + ' enregistrements comportant ' + str(data.shape[1]) + \\\n",
    "      ' variables numériques et '+ str(categorical_data.shape[1])+ ' variables catégorielles.')"
   ]
  },
  {
   "cell_type": "code",
   "execution_count": null,
   "metadata": {},
   "outputs": [],
   "source": [
    "\n"
   ]
  },
  {
   "cell_type": "code",
   "execution_count": null,
   "metadata": {
    "collapsed": true
   },
   "outputs": [],
   "source": []
  },
  {
   "cell_type": "code",
   "execution_count": null,
   "metadata": {
    "collapsed": true
   },
   "outputs": [],
   "source": []
  },
  {
   "cell_type": "markdown",
   "metadata": {},
   "source": [
    "## Description de la population étudiée\n",
    "\n",
    "### Variables numériques"
   ]
  },
  {
   "cell_type": "code",
   "execution_count": null,
   "metadata": {
    "collapsed": true
   },
   "outputs": [],
   "source": []
  },
  {
   "cell_type": "code",
   "execution_count": 89,
   "metadata": {},
   "outputs": [
    {
     "data": {
      "text/html": [
       "<div>\n",
       "<style>\n",
       "    .dataframe thead tr:only-child th {\n",
       "        text-align: right;\n",
       "    }\n",
       "\n",
       "    .dataframe thead th {\n",
       "        text-align: left;\n",
       "    }\n",
       "\n",
       "    .dataframe tbody tr th {\n",
       "        vertical-align: top;\n",
       "    }\n",
       "</style>\n",
       "<table border=\"1\" class=\"dataframe\">\n",
       "  <thead>\n",
       "    <tr style=\"text-align: right;\">\n",
       "      <th></th>\n",
       "      <th>age_h</th>\n",
       "      <th>bmi_h</th>\n",
       "      <th>cryptorchidie</th>\n",
       "      <th>age_f</th>\n",
       "      <th>duree_infertilite</th>\n",
       "      <th>delta_consult_concep</th>\n",
       "      <th>delta_consult_ddn</th>\n",
       "      <th>duree_totale_du_programme</th>\n",
       "      <th>isPathoH</th>\n",
       "      <th>isPathoF</th>\n",
       "      <th>pb_F</th>\n",
       "      <th>pb_H</th>\n",
       "    </tr>\n",
       "  </thead>\n",
       "  <tbody>\n",
       "    <tr>\n",
       "      <th>count</th>\n",
       "      <td>1131.000000</td>\n",
       "      <td>1131.000000</td>\n",
       "      <td>1131.000000</td>\n",
       "      <td>1131.000000</td>\n",
       "      <td>1131.000000</td>\n",
       "      <td>637.000000</td>\n",
       "      <td>494.000000</td>\n",
       "      <td>1131.000000</td>\n",
       "      <td>1131.000000</td>\n",
       "      <td>1069.000000</td>\n",
       "      <td>1131.000000</td>\n",
       "      <td>1131.000000</td>\n",
       "    </tr>\n",
       "    <tr>\n",
       "      <th>mean</th>\n",
       "      <td>33.692308</td>\n",
       "      <td>24.821211</td>\n",
       "      <td>0.139699</td>\n",
       "      <td>30.949468</td>\n",
       "      <td>31.540937</td>\n",
       "      <td>20.170010</td>\n",
       "      <td>77.847653</td>\n",
       "      <td>45.362544</td>\n",
       "      <td>0.255526</td>\n",
       "      <td>0.212348</td>\n",
       "      <td>0.374005</td>\n",
       "      <td>0.832891</td>\n",
       "    </tr>\n",
       "    <tr>\n",
       "      <th>std</th>\n",
       "      <td>5.867785</td>\n",
       "      <td>3.450065</td>\n",
       "      <td>0.346828</td>\n",
       "      <td>4.445154</td>\n",
       "      <td>22.587268</td>\n",
       "      <td>15.996864</td>\n",
       "      <td>18.058992</td>\n",
       "      <td>33.247838</td>\n",
       "      <td>0.436349</td>\n",
       "      <td>0.409161</td>\n",
       "      <td>0.484079</td>\n",
       "      <td>0.373238</td>\n",
       "    </tr>\n",
       "    <tr>\n",
       "      <th>min</th>\n",
       "      <td>18.000000</td>\n",
       "      <td>11.830719</td>\n",
       "      <td>0.000000</td>\n",
       "      <td>16.000000</td>\n",
       "      <td>1.000000</td>\n",
       "      <td>-9.495062</td>\n",
       "      <td>48.329534</td>\n",
       "      <td>-9.495062</td>\n",
       "      <td>0.000000</td>\n",
       "      <td>0.000000</td>\n",
       "      <td>0.000000</td>\n",
       "      <td>0.000000</td>\n",
       "    </tr>\n",
       "    <tr>\n",
       "      <th>25%</th>\n",
       "      <td>30.000000</td>\n",
       "      <td>22.652451</td>\n",
       "      <td>0.000000</td>\n",
       "      <td>28.000000</td>\n",
       "      <td>18.000000</td>\n",
       "      <td>8.509415</td>\n",
       "      <td>60.518696</td>\n",
       "      <td>14.587569</td>\n",
       "      <td>0.000000</td>\n",
       "      <td>0.000000</td>\n",
       "      <td>0.000000</td>\n",
       "      <td>1.000000</td>\n",
       "    </tr>\n",
       "    <tr>\n",
       "      <th>50%</th>\n",
       "      <td>33.000000</td>\n",
       "      <td>24.441802</td>\n",
       "      <td>0.000000</td>\n",
       "      <td>31.000000</td>\n",
       "      <td>24.000000</td>\n",
       "      <td>17.281669</td>\n",
       "      <td>79.295263</td>\n",
       "      <td>40.378653</td>\n",
       "      <td>0.000000</td>\n",
       "      <td>0.000000</td>\n",
       "      <td>0.000000</td>\n",
       "      <td>1.000000</td>\n",
       "    </tr>\n",
       "    <tr>\n",
       "      <th>75%</th>\n",
       "      <td>37.000000</td>\n",
       "      <td>26.234568</td>\n",
       "      <td>0.000000</td>\n",
       "      <td>34.000000</td>\n",
       "      <td>36.000000</td>\n",
       "      <td>29.306557</td>\n",
       "      <td>93.012177</td>\n",
       "      <td>74.350603</td>\n",
       "      <td>1.000000</td>\n",
       "      <td>0.000000</td>\n",
       "      <td>1.000000</td>\n",
       "      <td>1.000000</td>\n",
       "    </tr>\n",
       "    <tr>\n",
       "      <th>max</th>\n",
       "      <td>61.000000</td>\n",
       "      <td>54.143211</td>\n",
       "      <td>1.000000</td>\n",
       "      <td>47.000000</td>\n",
       "      <td>168.000000</td>\n",
       "      <td>88.412493</td>\n",
       "      <td>108.125424</td>\n",
       "      <td>108.125424</td>\n",
       "      <td>1.000000</td>\n",
       "      <td>1.000000</td>\n",
       "      <td>1.000000</td>\n",
       "      <td>1.000000</td>\n",
       "    </tr>\n",
       "  </tbody>\n",
       "</table>\n",
       "</div>"
      ],
      "text/plain": [
       "             age_h        bmi_h  cryptorchidie        age_f  \\\n",
       "count  1131.000000  1131.000000    1131.000000  1131.000000   \n",
       "mean     33.692308    24.821211       0.139699    30.949468   \n",
       "std       5.867785     3.450065       0.346828     4.445154   \n",
       "min      18.000000    11.830719       0.000000    16.000000   \n",
       "25%      30.000000    22.652451       0.000000    28.000000   \n",
       "50%      33.000000    24.441802       0.000000    31.000000   \n",
       "75%      37.000000    26.234568       0.000000    34.000000   \n",
       "max      61.000000    54.143211       1.000000    47.000000   \n",
       "\n",
       "       duree_infertilite  delta_consult_concep  delta_consult_ddn  \\\n",
       "count        1131.000000            637.000000         494.000000   \n",
       "mean           31.540937             20.170010          77.847653   \n",
       "std            22.587268             15.996864          18.058992   \n",
       "min             1.000000             -9.495062          48.329534   \n",
       "25%            18.000000              8.509415          60.518696   \n",
       "50%            24.000000             17.281669          79.295263   \n",
       "75%            36.000000             29.306557          93.012177   \n",
       "max           168.000000             88.412493         108.125424   \n",
       "\n",
       "       duree_totale_du_programme     isPathoH     isPathoF         pb_F  \\\n",
       "count                1131.000000  1131.000000  1069.000000  1131.000000   \n",
       "mean                   45.362544     0.255526     0.212348     0.374005   \n",
       "std                    33.247838     0.436349     0.409161     0.484079   \n",
       "min                    -9.495062     0.000000     0.000000     0.000000   \n",
       "25%                    14.587569     0.000000     0.000000     0.000000   \n",
       "50%                    40.378653     0.000000     0.000000     0.000000   \n",
       "75%                    74.350603     1.000000     0.000000     1.000000   \n",
       "max                   108.125424     1.000000     1.000000     1.000000   \n",
       "\n",
       "              pb_H  \n",
       "count  1131.000000  \n",
       "mean      0.832891  \n",
       "std       0.373238  \n",
       "min       0.000000  \n",
       "25%       1.000000  \n",
       "50%       1.000000  \n",
       "75%       1.000000  \n",
       "max       1.000000  "
      ]
     },
     "execution_count": 89,
     "metadata": {},
     "output_type": "execute_result"
    }
   ],
   "source": [
    "numerical_data.describe()"
   ]
  },
  {
   "cell_type": "code",
   "execution_count": 90,
   "metadata": {},
   "outputs": [
    {
     "data": {
      "text/plain": [
       "<matplotlib.axes._subplots.AxesSubplot at 0x1a1d5b6d30>"
      ]
     },
     "execution_count": 90,
     "metadata": {},
     "output_type": "execute_result"
    },
    {
     "data": {
      "image/png": "[encoded data removed]",
      "text/plain": [
       "<matplotlib.figure.Figure at 0x1a1d3ccc50>"
      ]
     },
     "metadata": {},
     "output_type": "display_data"
    }
   ],
   "source": [
    "%matplotlib inline\n",
    "sns.distplot(data.age_h, bins=5, kde=False, rug=True)"
   ]
  },
  {
   "cell_type": "markdown",
   "metadata": {},
   "source": [
    "### Variables catégorielles"
   ]
  },
  {
   "cell_type": "code",
   "execution_count": 91,
   "metadata": {
    "collapsed": true
   },
   "outputs": [],
   "source": [
    "def barplot_percentage(varName, data, title,ax=None):\n",
    "    total = float(len(data))\n",
    "    ax = sns.countplot(x=varName, data=data,ax = ax ) # for Seaborn version 0.7 and more\n",
    "    for p in ax.patches:\n",
    "        height = p.get_height()\n",
    "        ax.text(p.get_x()+p.get_width()/2.,\n",
    "                height + 20,\n",
    "                '{:1.2f} %'.format(height/total*100),\n",
    "                ha=\"center\") \n",
    "    ax.set_title(title)\n",
    "    ax.set(ylim=(0, 800))\n"
   ]
  },
  {
   "cell_type": "code",
   "execution_count": 92,
   "metadata": {},
   "outputs": [
    {
     "data": {
      "text/plain": [
       "1130"
      ]
     },
     "execution_count": 92,
     "metadata": {},
     "output_type": "execute_result"
    }
   ],
   "source": []
  },
  {
   "cell_type": "code",
   "execution_count": null,
   "metadata": {},
   "outputs": [],
   "source": []
  },
  {
   "cell_type": "markdown",
   "metadata": {},
   "source": [
    "#### Données socio-démographique\n"
   ]
  },
  {
   "cell_type": "code",
   "execution_count": null,
   "metadata": {
    "collapsed": true
   },
   "outputs": [],
   "source": []
  },
  {
   "cell_type": "code",
   "execution_count": 94,
   "metadata": {},
   "outputs": [
    {
     "data": {
      "image/png": "[encoded data removed]",
      "text/plain": [
       "<matplotlib.figure.Figure at 0x1a1ec66c18>"
      ]
     },
     "metadata": {},
     "output_type": "display_data"
    }
   ],
   "source": [
    "fig, axs = plt.subplots(ncols=2,nrows = 2, figsize=(12,8))\n",
    "\n",
    "barplot_percentage('diplome_h', data, 'Répartition selon le niveau d\\'étude de l\\'homme', ax = axs[0,0])\n",
    "barplot_percentage('diplome_f', data, 'Répartition selon le niveau d\\'étude de la femme', ax = axs[0,1])\n",
    "barplot_percentage('tranche_age_h', data, 'Répartition selon l\\'âge de l\\'homme', ax = axs[1,0])\n",
    "barplot_percentage('tranche_age_f', data, 'Répartition selon l\\'âge de la femme', ax = axs[1,1])\n",
    "fig.tight_layout()"
   ]
  },
  {
   "cell_type": "markdown",
   "metadata": {},
   "source": [
    "#### Etat de santé \n",
    "\n",
    "Plusieurs variables indiquent l'état de santé des couples:\n",
    "- Indice de masse corporel\n",
    "- Pathologie/problèmes de santé chez l'homme et la femme\n",
    "- Cryptorchidie chez l'homme\n",
    "- Spectrogramme chez l'homme\n",
    "- Bilan hormonal de la femme\n",
    "- Ovulation de la femme"
   ]
  },
  {
   "cell_type": "code",
   "execution_count": 121,
   "metadata": {},
   "outputs": [
    {
     "data": {
      "image/png": "[encoded data removed]",
      "text/plain": [
       "<matplotlib.figure.Figure at 0x1a1f55d5c0>"
      ]
     },
     "metadata": {},
     "output_type": "display_data"
    }
   ],
   "source": [
    "#data.tranche_bmi_h = data.tranche_bmi_h.fillna('Denutrition ou anorexie')\n",
    "plt.figure(figsize=(20,10))\n",
    "barplot_percentage('tranche_bmi_h', data, 'fr')\n",
    "plt.tight_layout()\n",
    "\n",
    "\n"
   ]
  },
  {
   "cell_type": "code",
   "execution_count": 113,
   "metadata": {},
   "outputs": [
    {
     "data": {
      "text/plain": [
       "Series([], Name: bmi_h, dtype: float64)"
      ]
     },
     "execution_count": 113,
     "metadata": {},
     "output_type": "execute_result"
    }
   ],
   "source": []
  },
  {
   "cell_type": "code",
   "execution_count": null,
   "metadata": {},
   "outputs": [],
   "source": []
  },
  {
   "cell_type": "code",
   "execution_count": 136,
   "metadata": {},
   "outputs": [
    {
     "data": {
      "image/png": "[encoded data removed]",
      "text/plain": [
       "<matplotlib.figure.Figure at 0x1a1f6d8a90>"
      ]
     },
     "metadata": {},
     "output_type": "display_data"
    }
   ],
   "source": [
    "fig, axs = plt.subplots(ncols=2, figsize=(12,8))\n",
    "barplot_percentage('patho_h', data, 'Répartition selon patho homme', ax = axs[0])\n",
    "barplot_percentage('patho_f', data, 'Répartition selon patho femme', ax = axs[1])\n",
    "fig.tight_layout()"
   ]
  },
  {
   "cell_type": "code",
   "execution_count": 299,
   "metadata": {
    "collapsed": true
   },
   "outputs": [],
   "source": []
  },
  {
   "cell_type": "code",
   "execution_count": 198,
   "metadata": {},
   "outputs": [
    {
     "data": {
      "text/plain": [
       "['non',\n",
       " nan,\n",
       " 'autre',\n",
       " 'endometriose',\n",
       " 'hydrosalpinx',\n",
       " 'pb tubaire unilateral',\n",
       " 'pb tubaire bilateral']"
      ]
     },
     "execution_count": 198,
     "metadata": {},
     "output_type": "execute_result"
    }
   ],
   "source": []
  },
  {
   "cell_type": "code",
   "execution_count": 295,
   "metadata": {},
   "outputs": [
    {
     "data": {
      "image/png": "[encoded data removed]",
      "text/plain": [
       "<matplotlib.figure.Figure at 0x1a21946908>"
      ]
     },
     "metadata": {},
     "output_type": "display_data"
    }
   ],
   "source": [
    "fig, axs = plt.subplots(ncols=2, figsize=(12,8))\n",
    "barplot_percentage('cryptorchidie', data, 'Répartition selon la présence de cryptorchidie chez l\\'homme', ax = axs[0])\n",
    "barplot_percentage('spermo', data, 'Répartition selon le spermogramme de l\\'homme', ax = axs[1])\n",
    "fig.tight_layout()"
   ]
  },
  {
   "cell_type": "code",
   "execution_count": 297,
   "metadata": {},
   "outputs": [
    {
     "data": {
      "image/png": "[encoded data removed]",
      "text/plain": [
       "<matplotlib.figure.Figure at 0x1a20dc8e10>"
      ]
     },
     "metadata": {},
     "output_type": "display_data"
    }
   ],
   "source": [
    "fig, axs = plt.subplots(ncols=2, figsize=(12,8))\n",
    "barplot_percentage('bh_f', data, 'Répartition selon le bilan hormonal de la femme', ax = axs[0])\n",
    "barplot_percentage('ct_f', data, 'Répartition selon l\\'ovulation chez la femme', ax = axs[1])\n",
    "fig.tight_layout()"
   ]
  },
  {
   "cell_type": "code",
   "execution_count": 333,
   "metadata": {
    "collapsed": true
   },
   "outputs": [],
   "source": [
    "\n",
    "\n",
    "\n"
   ]
  },
  {
   "cell_type": "code",
   "execution_count": 147,
   "metadata": {},
   "outputs": [
    {
     "data": {
      "image/png": "[encoded data removed]",
      "text/plain": [
       "<matplotlib.figure.Figure at 0x1a1ede09b0>"
      ]
     },
     "metadata": {},
     "output_type": "display_data"
    }
   ],
   "source": [
    "#On a pas pris en compte les nan\n",
    "fig, axs = plt.subplots(ncols=3, figsize=(12,8))\n",
    "barplot_percentage('pb_H', data, 'Problème chez l\\'homme', ax = axs[0])\n",
    "barplot_percentage('pb_F', data, 'Problème chez la femme', ax = axs[1])\n",
    "barplot_percentage('pb_H_et_F', data, 'Problème chez la femme et l\\'homme', ax = axs[2])\n",
    "\n",
    "\n",
    "fig.tight_layout()"
   ]
  },
  {
   "cell_type": "markdown",
   "metadata": {
    "collapsed": true
   },
   "source": [
    "Il y a un problème chez l'homme 83% du temps contre 37% chez la femme et 32% du temps, il y a un problème chez les deux"
   ]
  }
 ],
 "metadata": {
  "kernelspec": {
   "display_name": "Python 3",
   "language": "python",
   "name": "python3"
  },
  "language_info": {
   "codemirror_mode": {
    "name": "ipython",
    "version": 3
   },
   "file_extension": ".py",
   "mimetype": "text/x-python",
   "name": "python",
   "nbconvert_exporter": "python",
   "pygments_lexer": "ipython3",
   "version": "3.6.2"
  }
 },
 "nbformat": 4,
 "nbformat_minor": 2
}
