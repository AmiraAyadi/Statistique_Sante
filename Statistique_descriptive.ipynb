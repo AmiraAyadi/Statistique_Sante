{
 "cells": [
  {
   "cell_type": "code",
   "execution_count": 2,
   "metadata": {},
   "outputs": [],
   "source": [
    "import pandas as pd\n",
    "import numpy as np\n",
    "\n",
    "data = pd.read_csv('couples.csv', sep = ',',na_values = '.', decimal = '.', encoding =  'utf-8')"
   ]
  },
  {
   "cell_type": "markdown",
   "metadata": {},
   "source": [
    "# Analyse préliminaires\n",
    "\n",
    "- graph des variable en fct de y ( boite a moustache)\n",
    "- tableau des freq\n",
    "- \n"
   ]
  },
  {
   "cell_type": "code",
   "execution_count": 12,
   "metadata": {},
   "outputs": [
    {
     "data": {
      "text/plain": [
       "id                            int64\n",
       "enfant                        int64\n",
       "dconsultation        datetime64[ns]\n",
       "dconception          datetime64[ns]\n",
       "ddn                        category\n",
       "age_h                         int64\n",
       "diplome_h                  category\n",
       "bmi_h                       float64\n",
       "patho_h                    category\n",
       "cryptorchidie              category\n",
       "spermo                     category\n",
       "age_f                       float64\n",
       "diplome_f                  category\n",
       "bh_f                       category\n",
       "ct_f                       category\n",
       "patho_f                    category\n",
       "fecondite                  category\n",
       "duree_infertilite           float64\n",
       "traitement                 category\n",
       "dtype: object"
      ]
     },
     "execution_count": 12,
     "metadata": {},
     "output_type": "execute_result"
    }
   ],
   "source": [
    "data.dtypes"
   ]
  },
  {
   "cell_type": "code",
   "execution_count": 13,
   "metadata": {},
   "outputs": [
    {
     "name": "stdout",
     "output_type": "stream",
     "text": [
      "nous avons 1131 obs\n"
     ]
    }
   ],
   "source": [
    "print(\"nous avons \"+ str(len(data)) + \" obs\")"
   ]
  },
  {
   "cell_type": "markdown",
   "metadata": {},
   "source": [
    "Nous avons 19 variables, 6 d'entres elles sont de type numerique. 3 d'entre eux sont de type \"date\" et les 10 restantes sont de type catégorique(catégorielle ?), et cela, pour un total de 1131 observations."
   ]
  },
  {
   "cell_type": "code",
   "execution_count": 32,
   "metadata": {
    "collapsed": true
   },
   "outputs": [],
   "source": [
    "# Transform\n",
    "\n",
    "data[\"dconsultation\"] = pd.to_datetime(data.dconsultation)\n",
    "data[\"dconception\"] = pd.to_datetime(data.dconsultation)\n",
    "data[\"ddn\"] = pd.to_datetime(data.ddn)\n",
    "\n",
    "data = pd.concat([\n",
    "        data.select_dtypes([], ['object']),\n",
    "        data.select_dtypes(['object']).apply(pd.Series.astype, dtype='category')\n",
    "        ], axis=1).reindex_axis(data.columns, axis=1)\n",
    "data[\"enfant\"] = data[\"enfant\"].astype('category')"
   ]
  },
  {
   "cell_type": "code",
   "execution_count": 33,
   "metadata": {},
   "outputs": [
    {
     "data": {
      "text/html": [
       "<div>\n",
       "<style>\n",
       "    .dataframe thead tr:only-child th {\n",
       "        text-align: right;\n",
       "    }\n",
       "\n",
       "    .dataframe thead th {\n",
       "        text-align: left;\n",
       "    }\n",
       "\n",
       "    .dataframe tbody tr th {\n",
       "        vertical-align: top;\n",
       "    }\n",
       "</style>\n",
       "<table border=\"1\" class=\"dataframe\">\n",
       "  <thead>\n",
       "    <tr style=\"text-align: right;\">\n",
       "      <th></th>\n",
       "      <th>id</th>\n",
       "      <th>age_h</th>\n",
       "      <th>bmi_h</th>\n",
       "      <th>age_f</th>\n",
       "      <th>duree_infertilite</th>\n",
       "      <th>isPathoH</th>\n",
       "      <th>isPathoF</th>\n",
       "      <th>delta_consult_concep</th>\n",
       "    </tr>\n",
       "  </thead>\n",
       "  <tbody>\n",
       "    <tr>\n",
       "      <th>count</th>\n",
       "      <td>1131.000000</td>\n",
       "      <td>1131.000000</td>\n",
       "      <td>1109.000000</td>\n",
       "      <td>1128.000000</td>\n",
       "      <td>1131.000000</td>\n",
       "      <td>1131.000000</td>\n",
       "      <td>1069.000000</td>\n",
       "      <td>1131.0</td>\n",
       "    </tr>\n",
       "    <tr>\n",
       "      <th>mean</th>\n",
       "      <td>121258.500442</td>\n",
       "      <td>33.692308</td>\n",
       "      <td>24.821211</td>\n",
       "      <td>30.949468</td>\n",
       "      <td>31.540937</td>\n",
       "      <td>0.255526</td>\n",
       "      <td>0.212348</td>\n",
       "      <td>0.0</td>\n",
       "    </tr>\n",
       "    <tr>\n",
       "      <th>std</th>\n",
       "      <td>13060.822076</td>\n",
       "      <td>5.867785</td>\n",
       "      <td>3.484148</td>\n",
       "      <td>4.451067</td>\n",
       "      <td>22.587268</td>\n",
       "      <td>0.436349</td>\n",
       "      <td>0.409161</td>\n",
       "      <td>0.0</td>\n",
       "    </tr>\n",
       "    <tr>\n",
       "      <th>min</th>\n",
       "      <td>2707.000000</td>\n",
       "      <td>18.000000</td>\n",
       "      <td>11.830719</td>\n",
       "      <td>16.000000</td>\n",
       "      <td>1.000000</td>\n",
       "      <td>0.000000</td>\n",
       "      <td>0.000000</td>\n",
       "      <td>0.0</td>\n",
       "    </tr>\n",
       "    <tr>\n",
       "      <th>25%</th>\n",
       "      <td>115046.500000</td>\n",
       "      <td>30.000000</td>\n",
       "      <td>22.634676</td>\n",
       "      <td>28.000000</td>\n",
       "      <td>18.000000</td>\n",
       "      <td>0.000000</td>\n",
       "      <td>0.000000</td>\n",
       "      <td>0.0</td>\n",
       "    </tr>\n",
       "    <tr>\n",
       "      <th>50%</th>\n",
       "      <td>117233.000000</td>\n",
       "      <td>33.000000</td>\n",
       "      <td>24.386526</td>\n",
       "      <td>31.000000</td>\n",
       "      <td>24.000000</td>\n",
       "      <td>0.000000</td>\n",
       "      <td>0.000000</td>\n",
       "      <td>0.0</td>\n",
       "    </tr>\n",
       "    <tr>\n",
       "      <th>75%</th>\n",
       "      <td>119685.000000</td>\n",
       "      <td>37.000000</td>\n",
       "      <td>26.277285</td>\n",
       "      <td>34.000000</td>\n",
       "      <td>36.000000</td>\n",
       "      <td>1.000000</td>\n",
       "      <td>0.000000</td>\n",
       "      <td>0.0</td>\n",
       "    </tr>\n",
       "    <tr>\n",
       "      <th>max</th>\n",
       "      <td>142814.000000</td>\n",
       "      <td>61.000000</td>\n",
       "      <td>54.143211</td>\n",
       "      <td>47.000000</td>\n",
       "      <td>168.000000</td>\n",
       "      <td>1.000000</td>\n",
       "      <td>1.000000</td>\n",
       "      <td>0.0</td>\n",
       "    </tr>\n",
       "  </tbody>\n",
       "</table>\n",
       "</div>"
      ],
      "text/plain": [
       "                  id        age_h        bmi_h        age_f  \\\n",
       "count    1131.000000  1131.000000  1109.000000  1128.000000   \n",
       "mean   121258.500442    33.692308    24.821211    30.949468   \n",
       "std     13060.822076     5.867785     3.484148     4.451067   \n",
       "min      2707.000000    18.000000    11.830719    16.000000   \n",
       "25%    115046.500000    30.000000    22.634676    28.000000   \n",
       "50%    117233.000000    33.000000    24.386526    31.000000   \n",
       "75%    119685.000000    37.000000    26.277285    34.000000   \n",
       "max    142814.000000    61.000000    54.143211    47.000000   \n",
       "\n",
       "       duree_infertilite     isPathoH     isPathoF  delta_consult_concep  \n",
       "count        1131.000000  1131.000000  1069.000000                1131.0  \n",
       "mean           31.540937     0.255526     0.212348                   0.0  \n",
       "std            22.587268     0.436349     0.409161                   0.0  \n",
       "min             1.000000     0.000000     0.000000                   0.0  \n",
       "25%            18.000000     0.000000     0.000000                   0.0  \n",
       "50%            24.000000     0.000000     0.000000                   0.0  \n",
       "75%            36.000000     1.000000     0.000000                   0.0  \n",
       "max           168.000000     1.000000     1.000000                   0.0  "
      ]
     },
     "execution_count": 33,
     "metadata": {},
     "output_type": "execute_result"
    }
   ],
   "source": [
    "data.describe()"
   ]
  },
  {
   "cell_type": "markdown",
   "metadata": {},
   "source": [
    "La moyenne d'age pour les hommes est de 34 ans, avec un maximum de 61 ans et un minimum de 18 ans alors pour les femmes la moyenne tourne autour 32 ans avec un minimum de 16 ans et un maximum de 47 ans.\n",
    "\n",
    "L'indice corporelle des hommes ayant consultés est en moyenne de 24.8, ils ont donc en moyenne une corpulence normale à la limite du surpoids. Cependant on retrouve des cas d'anorexie avec un IMC de 11.8 ou d'obésité massive avec un IMC de plus de 54.\n",
    "\n",
    "En ce qui concerne la durée d'infertilite, celle-ci est en moyenne de 32 mois et peut aller jusqu'à 168 mois.\n"
   ]
  },
  {
   "cell_type": "code",
   "execution_count": 34,
   "metadata": {
    "scrolled": true
   },
   "outputs": [
    {
     "data": {
      "text/html": [
       "<div>\n",
       "<style>\n",
       "    .dataframe thead tr:only-child th {\n",
       "        text-align: right;\n",
       "    }\n",
       "\n",
       "    .dataframe thead th {\n",
       "        text-align: left;\n",
       "    }\n",
       "\n",
       "    .dataframe tbody tr th {\n",
       "        vertical-align: top;\n",
       "    }\n",
       "</style>\n",
       "<table border=\"1\" class=\"dataframe\">\n",
       "  <thead>\n",
       "    <tr style=\"text-align: right;\">\n",
       "      <th></th>\n",
       "      <th>enfant</th>\n",
       "      <th>diplome_h</th>\n",
       "      <th>patho_h</th>\n",
       "      <th>cryptorchidie</th>\n",
       "      <th>spermo</th>\n",
       "      <th>diplome_f</th>\n",
       "      <th>bh_f</th>\n",
       "      <th>ct_f</th>\n",
       "      <th>patho_f</th>\n",
       "      <th>fecondite</th>\n",
       "      <th>traitement</th>\n",
       "      <th>tranche_age_h</th>\n",
       "      <th>tranche_age_f</th>\n",
       "      <th>tranche_bmi_h</th>\n",
       "      <th>tranche_duree_infertilite</th>\n",
       "    </tr>\n",
       "  </thead>\n",
       "  <tbody>\n",
       "    <tr>\n",
       "      <th>count</th>\n",
       "      <td>1131</td>\n",
       "      <td>1128</td>\n",
       "      <td>1131</td>\n",
       "      <td>1131</td>\n",
       "      <td>1131</td>\n",
       "      <td>1109</td>\n",
       "      <td>772</td>\n",
       "      <td>776</td>\n",
       "      <td>763</td>\n",
       "      <td>1131</td>\n",
       "      <td>1131</td>\n",
       "      <td>1129</td>\n",
       "      <td>1127</td>\n",
       "      <td>1108</td>\n",
       "      <td>1130</td>\n",
       "    </tr>\n",
       "    <tr>\n",
       "      <th>unique</th>\n",
       "      <td>2</td>\n",
       "      <td>3</td>\n",
       "      <td>6</td>\n",
       "      <td>2</td>\n",
       "      <td>3</td>\n",
       "      <td>3</td>\n",
       "      <td>2</td>\n",
       "      <td>3</td>\n",
       "      <td>6</td>\n",
       "      <td>2</td>\n",
       "      <td>6</td>\n",
       "      <td>4</td>\n",
       "      <td>3</td>\n",
       "      <td>4</td>\n",
       "      <td>4</td>\n",
       "    </tr>\n",
       "    <tr>\n",
       "      <th>top</th>\n",
       "      <td>1</td>\n",
       "      <td>Bac+</td>\n",
       "      <td>non</td>\n",
       "      <td>Non</td>\n",
       "      <td>anormal</td>\n",
       "      <td>Bac+</td>\n",
       "      <td>normal</td>\n",
       "      <td>ovulation</td>\n",
       "      <td>non</td>\n",
       "      <td>primaire</td>\n",
       "      <td>ICSI</td>\n",
       "      <td>30 à 40 ans</td>\n",
       "      <td>30 à 40 ans</td>\n",
       "      <td>Corpulence normale</td>\n",
       "      <td>+ 2ans</td>\n",
       "    </tr>\n",
       "    <tr>\n",
       "      <th>freq</th>\n",
       "      <td>637</td>\n",
       "      <td>492</td>\n",
       "      <td>842</td>\n",
       "      <td>973</td>\n",
       "      <td>685</td>\n",
       "      <td>570</td>\n",
       "      <td>670</td>\n",
       "      <td>614</td>\n",
       "      <td>647</td>\n",
       "      <td>720</td>\n",
       "      <td>384</td>\n",
       "      <td>625</td>\n",
       "      <td>559</td>\n",
       "      <td>661</td>\n",
       "      <td>490</td>\n",
       "    </tr>\n",
       "  </tbody>\n",
       "</table>\n",
       "</div>"
      ],
      "text/plain": [
       "        enfant diplome_h patho_h cryptorchidie   spermo diplome_f    bh_f  \\\n",
       "count     1131      1128    1131          1131     1131      1109     772   \n",
       "unique       2         3       6             2        3         3       2   \n",
       "top          1      Bac+     non           Non  anormal      Bac+  normal   \n",
       "freq       637       492     842           973      685       570     670   \n",
       "\n",
       "             ct_f patho_f fecondite traitement tranche_age_h tranche_age_f  \\\n",
       "count         776     763      1131       1131          1129          1127   \n",
       "unique          3       6         2          6             4             3   \n",
       "top     ovulation     non  primaire       ICSI   30 à 40 ans   30 à 40 ans   \n",
       "freq          614     647       720        384           625           559   \n",
       "\n",
       "             tranche_bmi_h tranche_duree_infertilite  \n",
       "count                 1108                      1130  \n",
       "unique                   4                         4  \n",
       "top     Corpulence normale                    + 2ans  \n",
       "freq                   661                       490  "
      ]
     },
     "execution_count": 34,
     "metadata": {},
     "output_type": "execute_result"
    }
   ],
   "source": [
    "data.select_dtypes(['category']).describe()"
   ]
  },
  {
   "cell_type": "markdown",
   "metadata": {},
   "source": [
    "La variable \"ddn\", qui represente la date du dernier entretien téléphonique auquel le couple a participé, qui est unique (le 01/06/2009) nous indique qu'au moins 494 couples sont sans grossesse à cette date.\n",
    "Les couples qui consultent, ont pour la plupart un niveau d'etudes supérieur que le bac et consultent pour un type d'infécondité primaire. \n",
    "\n",
    "Le type de traitement de l'infécondité reçu par le couple est souvent l'ICSI. En effet, chez l'homme, sur 1131 observations, 685 ont un sperme anormal. De plus, la plupart d'entre eux n'ont aucune pathologie et aucun problème de cryptorchidie.\n",
    "\n",
    "Chez les femmes en revanche, la plupart ne presente aucune pathologie ainsi qu'un bilan hormonal normal et l'ovulation a lieu de façon normale et régulière.\n",
    "\n",
    "Globalement, 637 couples sur nos 1131 observations ont réussit à concevoir un enfant.\n",
    "\n",
    "Note : chez l'hommeil y  a 12 pathologie, à recoder."
   ]
  },
  {
   "cell_type": "markdown",
   "metadata": {},
   "source": [
    "# Recodage des données"
   ]
  },
  {
   "cell_type": "markdown",
   "metadata": {},
   "source": [
    "### Age"
   ]
  },
  {
   "cell_type": "code",
   "execution_count": 24,
   "metadata": {
    "collapsed": true
   },
   "outputs": [],
   "source": [
    "data['tranche_age_h'] = pd.cut(data.age_h, bins = [data.age_h.min(),30,40,50,data.age_h.max()], labels = ['- 30 ans','30 à 40 ans', \\\n",
    "                                                                                       '40 à 50 ans','+ 50 ans'])\n",
    "data['tranche_age_f'] = pd.cut(data.age_f, bins = [16,30,40,data.age_f.max()], labels = ['- 30 ans','30 à 40 ans', \\\n",
    "                                                                                       '+ 40 ans'])"
   ]
  },
  {
   "cell_type": "markdown",
   "metadata": {},
   "source": [
    "### Indice de masse corporelle"
   ]
  },
  {
   "cell_type": "code",
   "execution_count": 22,
   "metadata": {
    "collapsed": true
   },
   "outputs": [],
   "source": [
    "data['tranche_bmi_h'] = pd.cut(data.bmi_h, \\\n",
    "                              bins = [data.bmi_h.min(),16.5,18.5,25,30,data.bmi_h.max()],\\\n",
    "                              labels = ['Denutrition ou anorexie','Maigreur', 'Corpulence normale',\\\n",
    "                                       'Surpoid', 'Obesite'])"
   ]
  },
  {
   "cell_type": "markdown",
   "metadata": {},
   "source": [
    "### Encadrement de la durée d'infertilité avant la première consultation"
   ]
  },
  {
   "cell_type": "code",
   "execution_count": 25,
   "metadata": {
    "collapsed": true
   },
   "outputs": [],
   "source": [
    "data['tranche_duree_infertilite'] = pd.cut(data.duree_infertilite, \\\n",
    "                              bins = [data.duree_infertilite.min(),6,12,24,data.duree_infertilite.max()],\\\n",
    "                              labels = ['- 6 mois','6-12 mois', '1-2 ans','+ 2ans'])"
   ]
  },
  {
   "cell_type": "markdown",
   "metadata": {},
   "source": [
    "### Pathologies"
   ]
  },
  {
   "cell_type": "code",
   "execution_count": 26,
   "metadata": {
    "collapsed": true
   },
   "outputs": [],
   "source": [
    "dico = {'non': 'non',\n",
    " 'chimiotherapie': 'chimiotherapie',\n",
    " 'neurologique' : 'probleme neurologique',\n",
    " 'hodgkin , chimiotherapie , radiotherapie': 'chimiotherapie',\n",
    " 'sinusites chroniques' : 'probleme respiratoire',\n",
    " 'sarcome , chimiotherapie': 'chimiotherapie',\n",
    " 'cancer testis , chimiotherapie' : 'chimiotherapie',\n",
    " 'pathologies respiratoire chroniques': 'probleme respiratoire',\n",
    " 'sinusites chroniques , pathologies respiratoire chroniques': 'probleme respiratoire',\n",
    " 'chimiotherapie , radiotherapie' : 'chimiotherapie',\n",
    " 'autre' : 'autre',\n",
    " 'diabete' : 'diabete'}\n",
    "data.patho_h = data.patho_h.map(dico)"
   ]
  },
  {
   "cell_type": "markdown",
   "metadata": {},
   "source": [
    "Nous avons recodé les variables de façon à ...(expliquer)"
   ]
  },
  {
   "cell_type": "markdown",
   "metadata": {},
   "source": [
    "# Ajout de features"
   ]
  },
  {
   "cell_type": "markdown",
   "metadata": {},
   "source": [
    " plutot prédire si les individus ont eu des enfants après la ddn (dans le cas ou la première consultation à eu lieu peu avant), il nous faut connaitre les durée entre traitement et consultation.\n"
   ]
  },
  {
   "cell_type": "code",
   "execution_count": 35,
   "metadata": {},
   "outputs": [],
   "source": [
    "data['delta_consult_concep'] = (data.dconception - data.dconsultation)/np.timedelta64(1, 'M')\n",
    "data['delta_consult_ddn'] = (data.ddn - data.dconsultation)/np.timedelta64(1, 'M')\n",
    "data['duree_totale_du_programme'] = [i if not np.isnan(i) else j for i,j in zip(data['delta_consult_concep'],data['delta_consult_ddn'])]"
   ]
  },
  {
   "cell_type": "code",
   "execution_count": 30,
   "metadata": {
    "collapsed": true
   },
   "outputs": [],
   "source": [
    "dicoIsPathoH = {elem:0 if elem == 'non' else 1 for elem in list(set(data.patho_h))}\n",
    "\n",
    "catPathoF = list(set(data.patho_f))\n",
    "catPathoF = [x for x in catPathoF if str(x) != 'nan']\n",
    "\n",
    "\n",
    "dicoIsPathoF = {elem:0 if elem == 'non' else 1 for elem in catPathoF}\n",
    "\n",
    "data['isPathoH'] = data.patho_h.map(dicoIsPathoH)\n",
    "data['isPathoF'] = data.patho_h.map(dicoIsPathoF)"
   ]
  },
  {
   "cell_type": "code",
   "execution_count": null,
   "metadata": {
    "collapsed": true
   },
   "outputs": [],
   "source": []
  }
 ],
 "metadata": {
  "kernelspec": {
   "display_name": "Python 3",
   "language": "python",
   "name": "python3"
  },
  "language_info": {
   "codemirror_mode": {
    "name": "ipython",
    "version": 3
   },
   "file_extension": ".py",
   "mimetype": "text/x-python",
   "name": "python",
   "nbconvert_exporter": "python",
   "pygments_lexer": "ipython3",
   "version": "3.6.1"
  }
 },
 "nbformat": 4,
 "nbformat_minor": 2
}
