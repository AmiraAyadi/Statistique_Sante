{
 "cells": [
  {
   "cell_type": "code",
   "execution_count": 4,
   "metadata": {
    "collapsed": true
   },
   "outputs": [],
   "source": [
    "import pandas as pd\n",
    "import matplotlib.pyplot as plt\n",
    "\n",
    "data = pd.read_csv('couples.csv', sep = ',',na_values = '.', decimal = '.', encoding =  'utf-8')\n"
   ]
  },
  {
   "cell_type": "code",
   "execution_count": 5,
   "metadata": {},
   "outputs": [
    {
     "name": "stdout",
     "output_type": "stream",
     "text": [
      "      id  enfant dconsultation dconception         ddn  age_h diplome_h  \\\n",
      "0   2707       1    18/04/2000  22/01/2001         NaN     33      Bac+   \n",
      "1   2955       1    11/03/2003  14/03/2007         NaN     42      Bac-   \n",
      "2   3801       1    24/08/2004  05/10/2005         NaN     45      Bac+   \n",
      "3   5816       0    17/04/2001         NaN  01/06/2009     36      Bac+   \n",
      "4  12933       0    18/08/2004         NaN  01/06/2009     32       Bac   \n",
      "\n",
      "       bmi_h patho_h cryptorchidie   spermo  age_f diplome_f    bh_f  \\\n",
      "0  27.166448     non           Non   normal   34.0      Bac+  normal   \n",
      "1  22.204082     non           Non  anormal   30.0       Bac  normal   \n",
      "2  26.794938     non           Non  anormal   29.0      Bac+     NaN   \n",
      "3  18.612245     non           Non  anormal   38.0      Bac+  normal   \n",
      "4  24.158818     non           Non     azoo   30.0      Bac+     NaN   \n",
      "\n",
      "        ct_f                patho_f   fecondite  duree_infertilite traitement  \n",
      "0  ovulation                    non    primaire               38.0        IAC  \n",
      "1  ovulation                    NaN    primaire               16.0       ICSI  \n",
      "2        NaN                    NaN  secondaire               10.0        IAC  \n",
      "3  ovulation  pb tubaire unilateral  secondaire               60.0        FIV  \n",
      "4        NaN                    NaN  secondaire                6.0    Medical  \n"
     ]
    }
   ],
   "source": [
    "print(data.head())"
   ]
  },
  {
   "cell_type": "code",
   "execution_count": 8,
   "metadata": {},
   "outputs": [
    {
     "data": {
      "image/png": "[encoded data removed]",
      "text/plain": [
       "<matplotlib.figure.Figure at 0x11481d780>"
      ]
     },
     "metadata": {},
     "output_type": "display_data"
    }
   ],
   "source": [
    "plt.scatter(data.age_h, data.enfant, c = \"blue\", marker = \"s\")\n",
    "plt.show()"
   ]
  },
  {
   "cell_type": "code",
   "execution_count": null,
   "metadata": {
    "collapsed": true
   },
   "outputs": [],
   "source": []
  }
 ],
 "metadata": {
  "kernelspec": {
   "display_name": "Python 3",
   "language": "python",
   "name": "python3"
  },
  "language_info": {
   "codemirror_mode": {
    "name": "ipython",
    "version": 3
   },
   "file_extension": ".py",
   "mimetype": "text/x-python",
   "name": "python",
   "nbconvert_exporter": "python",
   "pygments_lexer": "ipython3",
   "version": "3.6.2"
  }
 },
 "nbformat": 4,
 "nbformat_minor": 2
}
